{
 "cells": [
  {
   "cell_type": "markdown",
   "metadata": {},
   "source": [
    "##### Number of occurrence"
   ]
  },
  {
   "cell_type": "code",
   "execution_count": 51,
   "metadata": {},
   "outputs": [],
   "source": [
    "# Given a sorted array Arr of size N and a number X, you need to find the number of occurrences of X in Arr.\n",
    "\n",
    "# Example 1:\n",
    "\n",
    "# Input:\n",
    "# N = 7, X = 2\n",
    "# Arr[] = {1, 1, 2, 2, 2, 2, 3}\n",
    "# Output: 4\n",
    "# Explanation: 2 occurs 4 times in the\n",
    "# given array.\n",
    "# Example 2:\n",
    "\n",
    "# Input:\n",
    "# N = 7, X = 4\n",
    "# Arr[] = {1, 1, 2, 2, 2, 2, 3}\n",
    "# Output: 0\n",
    "# Explanation: 4 is not present in the\n",
    "# given array."
   ]
  },
  {
   "cell_type": "code",
   "execution_count": 52,
   "metadata": {},
   "outputs": [
    {
     "data": {
      "text/plain": [
       "3"
      ]
     },
     "execution_count": 52,
     "metadata": {},
     "output_type": "execute_result"
    }
   ],
   "source": [
    "# Time Complexity : O(N)\n",
    "def count(array, x):\n",
    "    count = 0\n",
    "    for item in array:\n",
    "        if item == x:\n",
    "            count += 1\n",
    "    return count\n",
    "\n",
    "nums = [1,2,2,3,3,3]\n",
    "count(nums, 3)"
   ]
  },
  {
   "cell_type": "code",
   "execution_count": 53,
   "metadata": {},
   "outputs": [
    {
     "data": {
      "text/plain": [
       "2"
      ]
     },
     "execution_count": 53,
     "metadata": {},
     "output_type": "execute_result"
    }
   ],
   "source": [
    "# Time Complexity = O(log N + count)\n",
    "def binarySearch(arr, l, r, x):\n",
    "    if (r < l):\n",
    "        return -1\n",
    " \n",
    "    mid = int( l + (r - l) / 2)\n",
    "\n",
    "    if arr[mid] == x:\n",
    "        return mid\n",
    " \n",
    "    if arr[mid] > x:\n",
    "        return binarySearch(arr, l, mid - 1, x)\n",
    " \n",
    "    return binarySearch(arr, mid + 1,r, x)\n",
    " \n",
    "def count(arr, x, n):\n",
    "    i = binarySearch(arr, 0, n, x)\n",
    "    if i == -1:\n",
    "        return 0\n",
    "\n",
    "    # Count elements\n",
    "    # on left side.\n",
    "    count = 1\n",
    "    left = i - 1\n",
    "    while (left >= 0 and arr[left] == x):\n",
    "        count += 1\n",
    "        left -= 1\n",
    " \n",
    "    # Count elements on\n",
    "    # right side.\n",
    "    right = i + 1\n",
    "    while (right < n and arr[right] == x):\n",
    "        count += 1\n",
    "        right += 1\n",
    " \n",
    "    return count\n",
    "\n",
    "\n",
    "nums = [1,2,2,3,3,3]\n",
    "count(nums, 2, 6)\n"
   ]
  },
  {
   "cell_type": "markdown",
   "metadata": {},
   "source": [
    "Given a binary array, in-place sort it in linear time and constant space. \\\n",
    "The output should contain all zeroes, followed by all ones.\n",
    "\n",
    "Input : [1, 0, 1, 0, 1, 0, 0, 1] \\\n",
    "Output: [0, 0, 0, 0, 1, 1, 1, 1]\n",
    "\n",
    "Input : [1, 1] \\\n",
    "Output: [1, 1]"
   ]
  },
  {
   "cell_type": "code",
   "execution_count": 54,
   "metadata": {},
   "outputs": [
    {
     "data": {
      "text/plain": [
       "[1, 1, 1, 1, 0, 0, 0, 0]"
      ]
     },
     "execution_count": 54,
     "metadata": {},
     "output_type": "execute_result"
    }
   ],
   "source": [
    "def sortArray(nums):\n",
    "    zeros = nums.count(1)\n",
    "\n",
    "    i = 0\n",
    "    while zeros:\n",
    "        nums[i] = 1\n",
    "        i += 1\n",
    "        zeros -= 1\n",
    "\n",
    "    for i in range(i, len(nums)):\n",
    "        nums[i] = 0\n",
    "\n",
    "    return nums\n",
    "\n",
    "sortArray([1, 0, 1, 0, 1, 0, 0, 1])\n",
    "# sortArray([1,1])"
   ]
  },
  {
   "cell_type": "code",
   "execution_count": 55,
   "metadata": {},
   "outputs": [
    {
     "data": {
      "text/plain": [
       "[0, 0, 0, 0, 1, 1, 1, 1]"
      ]
     },
     "execution_count": 55,
     "metadata": {},
     "output_type": "execute_result"
    }
   ],
   "source": [
    "def sortArray(nums):\n",
    "    k = 0\n",
    "    for i in range(len(nums)):\n",
    "        if nums[i] == 0:\n",
    "            nums[k] = 0\n",
    "            k += 1\n",
    "\n",
    "    for i in range(k, len(nums)):\n",
    "        nums[k] = 1\n",
    "        k += 1\n",
    "    return nums\n",
    "\n",
    "\n",
    "sortArray([1, 0, 1, 0, 1, 0, 0, 1])\n",
    "            "
   ]
  },
  {
   "cell_type": "code",
   "execution_count": 56,
   "metadata": {},
   "outputs": [
    {
     "data": {
      "text/plain": [
       "()"
      ]
     },
     "execution_count": 56,
     "metadata": {},
     "output_type": "execute_result"
    }
   ],
   "source": [
    "def max_product_pair(nums):\n",
    "    if len(nums) < 2:\n",
    "        return ()\n",
    "    max_i = max_j = -1\n",
    "    for i in range(len(nums)):\n",
    "        max = 0\n",
    "        for j in range(i+1, len(nums)):\n",
    "            product = nums[i] * nums[j]\n",
    "            if product > max:\n",
    "                max = product\n",
    "                (max_i, max_j) = (i, j)\n",
    "    return (nums[max_i], nums[max_j])\n",
    "\n",
    "max_product_pair([-10])"
   ]
  },
  {
   "cell_type": "code",
   "execution_count": 57,
   "metadata": {},
   "outputs": [
    {
     "name": "stderr",
     "output_type": "stream",
     "text": [
      "<>:4: SyntaxWarning: \"is not\" with a literal. Did you mean \"!=\"?\n",
      "<>:4: SyntaxWarning: \"is not\" with a literal. Did you mean \"!=\"?\n",
      "C:\\Users\\i3hri\\AppData\\Local\\Temp\\ipykernel_5732\\4240307698.py:4: SyntaxWarning: \"is not\" with a literal. Did you mean \"!=\"?\n",
      "  if nums[i] is not 0:\n"
     ]
    },
    {
     "data": {
      "text/plain": [
       "[6, 8, 2, 3, 4, 1, 0, 0, 0]"
      ]
     },
     "execution_count": 57,
     "metadata": {},
     "output_type": "execute_result"
    }
   ],
   "source": [
    "def moveZeroToEnd(nums):\n",
    "    k = 0\n",
    "    for i in range(len(nums)):\n",
    "        if nums[i] is not 0:\n",
    "            nums[k] = nums[i]\n",
    "            k += 1\n",
    "    for i in range(k, len(nums)):\n",
    "        nums[i] = 0\n",
    "    return nums\n",
    "\n",
    "moveZeroToEnd([6, 0, 8, 2, 3, 0, 4, 0, 1])"
   ]
  },
  {
   "cell_type": "code",
   "execution_count": 58,
   "metadata": {},
   "outputs": [
    {
     "data": {
      "text/plain": [
       "3"
      ]
     },
     "execution_count": 58,
     "metadata": {},
     "output_type": "execute_result"
    }
   ],
   "source": [
    "def findIndex(nums, target):\n",
    "    for i in range(len(nums)):\n",
    "        if nums[i] == target:\n",
    "            return i\n",
    "    return -1\n",
    "\n",
    "findIndex([2, 3, 5, 7, 9],7)"
   ]
  },
  {
   "cell_type": "code",
   "execution_count": 59,
   "metadata": {},
   "outputs": [
    {
     "data": {
      "text/plain": [
       "5"
      ]
     },
     "execution_count": 59,
     "metadata": {},
     "output_type": "execute_result"
    }
   ],
   "source": [
    "def countOnes(nums):\n",
    "    count = 0\n",
    "    for i in range(len(nums)):\n",
    "        if nums[i] == 1:\n",
    "            count += 1\n",
    "    return count\n",
    "\n",
    "countOnes([0, 0, 1, 1, 1, 1, 1])"
   ]
  },
  {
   "cell_type": "code",
   "execution_count": 60,
   "metadata": {},
   "outputs": [
    {
     "data": {
      "text/plain": [
       "2"
      ]
     },
     "execution_count": 60,
     "metadata": {},
     "output_type": "execute_result"
    }
   ],
   "source": [
    "def findMajorityElement(nums):\n",
    "    occurences = {}\n",
    "    for num in nums:\n",
    "        if num not in occurences:\n",
    "            occurences[num] = 1\n",
    "        else:\n",
    "            occurences[num] = occurences.get(num) + 1\n",
    "\n",
    "    for key, val in occurences.items(): \n",
    "        if val >= len(nums) // 2:\n",
    "            return key\n",
    "\n",
    "    \n",
    "findMajorityElement([2, 8, 7, 2, 2, 5, 2, 3, 1, 2, 2])"
   ]
  },
  {
   "cell_type": "code",
   "execution_count": 61,
   "metadata": {},
   "outputs": [
    {
     "name": "stdout",
     "output_type": "stream",
     "text": [
      "8 2\n",
      "7 3\n"
     ]
    }
   ],
   "source": [
    "# Two Sum\n",
    "# nums[] = [8, 7, 2, 5, 3, 1], target = 10\n",
    "#           0  1  2  3  4  5\n",
    "\n",
    "# O(n)\n",
    "def PairOfSum(nums, target):\n",
    "    for i in range(0,len(nums)):\n",
    "        for j in range(i+1, len(nums)):\n",
    "            if nums[i] + nums[j] == target:\n",
    "                print (nums[i], nums[j])\n",
    "    return None\n",
    "\n",
    "nums = [8, 7, 2, 5, 3, 1]\n",
    "target = 10\n",
    "PairOfSum(nums, target)"
   ]
  },
  {
   "cell_type": "code",
   "execution_count": 62,
   "metadata": {},
   "outputs": [
    {
     "data": {
      "text/plain": [
       "[1, 2, 3, 5, 7, 8]"
      ]
     },
     "execution_count": 62,
     "metadata": {},
     "output_type": "execute_result"
    }
   ],
   "source": [
    "sorted(nums)"
   ]
  },
  {
   "cell_type": "code",
   "execution_count": 63,
   "metadata": {},
   "outputs": [
    {
     "name": "stdout",
     "output_type": "stream",
     "text": [
      "2 8\n",
      "3 7\n"
     ]
    }
   ],
   "source": [
    "def PairOfSum(nums, target):\n",
    "    nums.sort()\n",
    "    low, high = 0, len(nums) - 1\n",
    "    while low < high:\n",
    "        if nums[low] + nums[high] == target:\n",
    "            print(nums[low], nums[high])\n",
    "        if nums[low] + nums[high] < target:\n",
    "            low += 1\n",
    "        else: \n",
    "            high -= 1\n",
    "    return None\n",
    "nums = [8, 7, 2, 5, 3, 1]\n",
    "target = 10\n",
    "PairOfSum(nums, target)"
   ]
  },
  {
   "cell_type": "code",
   "execution_count": 64,
   "metadata": {},
   "outputs": [
    {
     "data": {
      "text/plain": [
       "(8, 7)"
      ]
     },
     "execution_count": 64,
     "metadata": {},
     "output_type": "execute_result"
    }
   ],
   "source": [
    "# using dictionary\n",
    "def PairOfSum(nums, target):\n",
    "    pairs = {}\n",
    "    i = 1\n",
    "    for num in nums:\n",
    "        if(pairs.get(target - num)):\n",
    "            return (target-num, num)\n",
    "        else:\n",
    "            pairs[num] = i\n",
    "        i += 1\n",
    "    print (pairs)\n",
    "\n",
    "nums = [8, 7, 2, 5, 3, 1]\n",
    "target = 15\n",
    "PairOfSum(nums, target)     "
   ]
  },
  {
   "cell_type": "markdown",
   "metadata": {},
   "source": [
    "### Span of Array\n",
    "\n"
   ]
  },
  {
   "cell_type": "code",
   "execution_count": 65,
   "metadata": {},
   "outputs": [
    {
     "data": {
      "text/plain": [
       "22"
      ]
     },
     "execution_count": 65,
     "metadata": {},
     "output_type": "execute_result"
    }
   ],
   "source": [
    "def spanOfArray(items):\n",
    "    return max(items) - min(items)\n",
    "\n",
    "spanOfArray([4,8,9,5,1,23,2])"
   ]
  },
  {
   "cell_type": "code",
   "execution_count": 66,
   "metadata": {},
   "outputs": [
    {
     "data": {
      "text/plain": [
       "[1, 4, 6, 8, 9]"
      ]
     },
     "execution_count": 66,
     "metadata": {},
     "output_type": "execute_result"
    }
   ],
   "source": [
    "def solve(s):\n",
    "    res = list()\n",
    "    for word in (s.split(\".\")):\n",
    "        res.append(word[::-1])\n",
    "    return \".\".join(res)\n",
    "    \n",
    "solve(\"i.like.this.program.very.much\")\n",
    "\n",
    "items = [4,8,9,6,1]\n",
    "items.sort()\n",
    "items\n"
   ]
  },
  {
   "cell_type": "code",
   "execution_count": 67,
   "metadata": {},
   "outputs": [
    {
     "name": "stdout",
     "output_type": "stream",
     "text": [
      "[6, 6]\n"
     ]
    },
    {
     "data": {
      "text/plain": [
       "6"
      ]
     },
     "execution_count": 67,
     "metadata": {},
     "output_type": "execute_result"
    }
   ],
   "source": [
    "def maximumWealth (accounts):\n",
    "    wealth = []\n",
    "    for i in range(0, len(accounts)):\n",
    "        sum = 0\n",
    "        for j in range(0, len(accounts[0])):\n",
    "            sum += accounts[i][j]\n",
    "        wealth.append(sum)\n",
    "    print(wealth)\n",
    "    return max(wealth)\n",
    "maximumWealth([[1,2,3],[2,1,3]])"
   ]
  },
  {
   "cell_type": "code",
   "execution_count": 68,
   "metadata": {},
   "outputs": [
    {
     "data": {
      "text/plain": [
       "3"
      ]
     },
     "execution_count": 68,
     "metadata": {},
     "output_type": "execute_result"
    }
   ],
   "source": [
    "def solve(nums):\n",
    "    m = 0\n",
    "    count = 0\n",
    "    for num in nums:\n",
    "        if num == 1:\n",
    "            count += 1\n",
    "        else:\n",
    "            m = count\n",
    "            count = 0\n",
    "    return m\n",
    "solve([1,1,0,1,1,1,0])"
   ]
  },
  {
   "cell_type": "code",
   "execution_count": 69,
   "metadata": {},
   "outputs": [
    {
     "data": {
      "text/plain": [
       "[0, 7, 2, 5, 4, 3, 6, 1]"
      ]
     },
     "execution_count": 69,
     "metadata": {},
     "output_type": "execute_result"
    }
   ],
   "source": [
    "def solve(nums):\n",
    "    even,odd = [], []\n",
    "    for i in range(len(nums)):\n",
    "        if i % 2 == 0:\n",
    "            even.append(nums[i])\n",
    "        else:\n",
    "            odd.append(nums[i])\n",
    "    \n",
    "    even.sort()\n",
    "    odd.sort(reverse=True)\n",
    "\n",
    "    items = []\n",
    "\n",
    "    eveni,oddi = 0,0\n",
    "\n",
    "    for i in range(len(nums)):\n",
    "        if i % 2 == 0:\n",
    "            if eveni < len(even):\n",
    "                items.append(even[eveni])\n",
    "                eveni += 1\n",
    "        else: \n",
    "            if oddi < len(odd):\n",
    "                items.append(odd[oddi])\n",
    "                oddi += 1\n",
    "    return items\n",
    "    \n",
    "\n",
    "\n",
    "\n",
    "solve([0, 1, 2, 3, 4, 5, 6, 7])"
   ]
  },
  {
   "cell_type": "code",
   "execution_count": 70,
   "metadata": {},
   "outputs": [],
   "source": [
    "def bitonicGenerator(self, arr, n):\n",
    "    odd = []\n",
    "    even = []\n",
    "    \n",
    "    for i in range(len(arr)):\n",
    "        if i%2 == 0:\n",
    "            even.append(arr[i])\n",
    "        else:\n",
    "            odd.append(arr[i])\n",
    "            \n",
    "    even.sort()\n",
    "    odd.sort(reverse = True)\n",
    "    \n",
    "    arr.clear()\n",
    "    \n",
    "    for i in range (len(even)):\n",
    "        arr.append(even[i])\n",
    "    \n",
    "    for i in range (len(odd)):\n",
    "        arr.append(odd[i])  \n",
    "    \n",
    "    return arr   "
   ]
  },
  {
   "cell_type": "code",
   "execution_count": 71,
   "metadata": {},
   "outputs": [
    {
     "data": {
      "text/plain": [
       "'++'"
      ]
     },
     "execution_count": 71,
     "metadata": {},
     "output_type": "execute_result"
    }
   ],
   "source": [
    "def solve(address):\n",
    "    result = \"\"\n",
    "    for i in range(len(address)):\n",
    "        if address[i] == '.':\n",
    "            result = result + '[.]'\n",
    "        else:\n",
    "            result += address[i]\n",
    "    return result\n",
    "\n",
    "\n",
    "\n",
    "solve(\"255.100.50.0\")\n",
    "\n",
    "\"++\"[-2:]"
   ]
  },
  {
   "cell_type": "code",
   "execution_count": 72,
   "metadata": {},
   "outputs": [
    {
     "data": {
      "text/plain": [
       "'Gooool'"
      ]
     },
     "execution_count": 72,
     "metadata": {},
     "output_type": "execute_result"
    }
   ],
   "source": [
    "def solve(word):\n",
    "    result = \"\"\n",
    "    flag = False\n",
    "    for i in range(len(word)):\n",
    "        if word[i] == '(' and word[i+1] == ')':\n",
    "            result += 'o'\n",
    "            flag = True\n",
    "        elif word[i] == '(' or word[i] == ')':\n",
    "            result += \"\"\n",
    "            flag = True\n",
    "        else:\n",
    "            if flag is not True:\n",
    "                result += word[i]\n",
    "            flag = False\n",
    "    return result\n",
    "\n",
    "solve(\"G()()()()(al)\")"
   ]
  },
  {
   "cell_type": "code",
   "execution_count": 73,
   "metadata": {},
   "outputs": [
    {
     "data": {
      "text/plain": [
       "'leetcode'"
      ]
     },
     "execution_count": 73,
     "metadata": {},
     "output_type": "execute_result"
    }
   ],
   "source": [
    "def solve(s,indices):\n",
    "    map = dict()\n",
    "    for i in range(len(s)):\n",
    "        map[indices[i]] = s[i]\n",
    "    result = \"\"\n",
    "    for i in range(len(s)):\n",
    "        result += map[i]\n",
    "    return result\n",
    "\n",
    "solve(\"codeleet\", [4,5,6,7,0,2,1,3])"
   ]
  },
  {
   "cell_type": "code",
   "execution_count": 74,
   "metadata": {},
   "outputs": [],
   "source": [
    "nums = [4,8,9,6,2,1]\n",
    "target = 8\n",
    "for i,num1 in enumerate(nums):\n",
    "    for j,num2 in enumerate(nums):\n",
    "        if num1 + num2 == target and i != j:\n",
    "            print([i,j])\n",
    "            break\n",
    "    break"
   ]
  },
  {
   "cell_type": "code",
   "execution_count": 75,
   "metadata": {},
   "outputs": [
    {
     "ename": "IndentationError",
     "evalue": "expected an indented block after 'if' statement on line 6 (913509614.py, line 8)",
     "output_type": "error",
     "traceback": [
      "\u001b[1;36m  Input \u001b[1;32mIn [75]\u001b[1;36m\u001b[0m\n\u001b[1;33m    return map\u001b[0m\n\u001b[1;37m    ^\u001b[0m\n\u001b[1;31mIndentationError\u001b[0m\u001b[1;31m:\u001b[0m expected an indented block after 'if' statement on line 6\n"
     ]
    }
   ],
   "source": [
    "def solve(n, nums, target):\n",
    "    map = dict()\n",
    "    for num in nums:\n",
    "        map[num] = map.get(num,0) + 1\n",
    "    for k in map.keys():\n",
    "        if target-k in map:\n",
    "            \n",
    "    return map\n",
    "solve(4, [7,4,9,2,1,2], 3)"
   ]
  },
  {
   "cell_type": "code",
   "execution_count": null,
   "metadata": {},
   "outputs": [
    {
     "ename": "TypeError",
     "evalue": "can only concatenate str (not \"NoneType\") to str",
     "output_type": "error",
     "traceback": [
      "\u001b[1;31m---------------------------------------------------------------------------\u001b[0m",
      "\u001b[1;31mTypeError\u001b[0m                                 Traceback (most recent call last)",
      "\u001b[1;32mc:\\Users\\i3hri\\OneDrive\\Desktop\\data-structure\\array\\Exercise.ipynb Cell 29\u001b[0m in \u001b[0;36m<cell line: 14>\u001b[1;34m()\u001b[0m\n\u001b[0;32m     <a href='vscode-notebook-cell:/c%3A/Users/i3hri/OneDrive/Desktop/data-structure/array/Exercise.ipynb#X40sZmlsZQ%3D%3D?line=10'>11</a>\u001b[0m         ans \u001b[39m+\u001b[39m\u001b[39m=\u001b[39m \u001b[39mmap\u001b[39m\u001b[39m.\u001b[39mget(ch, \u001b[39m\"\u001b[39m\u001b[39m \u001b[39m\u001b[39m\"\u001b[39m)\n\u001b[0;32m     <a href='vscode-notebook-cell:/c%3A/Users/i3hri/OneDrive/Desktop/data-structure/array/Exercise.ipynb#X40sZmlsZQ%3D%3D?line=11'>12</a>\u001b[0m     \u001b[39mreturn\u001b[39;00m ans\n\u001b[1;32m---> <a href='vscode-notebook-cell:/c%3A/Users/i3hri/OneDrive/Desktop/data-structure/array/Exercise.ipynb#X40sZmlsZQ%3D%3D?line=13'>14</a>\u001b[0m solve(\u001b[39m\"\u001b[39;49m\u001b[39mthe quick brown fox jumps over the lazy dog\u001b[39;49m\u001b[39m\"\u001b[39;49m, \u001b[39m\"\u001b[39;49m\u001b[39mvkbs bs t suepuv\u001b[39;49m\u001b[39m\"\u001b[39;49m)\n",
      "\u001b[1;32mc:\\Users\\i3hri\\OneDrive\\Desktop\\data-structure\\array\\Exercise.ipynb Cell 29\u001b[0m in \u001b[0;36msolve\u001b[1;34m(key, message)\u001b[0m\n\u001b[0;32m      <a href='vscode-notebook-cell:/c%3A/Users/i3hri/OneDrive/Desktop/data-structure/array/Exercise.ipynb#X40sZmlsZQ%3D%3D?line=8'>9</a>\u001b[0m ans \u001b[39m=\u001b[39m \u001b[39m\"\u001b[39m\u001b[39m\"\u001b[39m\n\u001b[0;32m     <a href='vscode-notebook-cell:/c%3A/Users/i3hri/OneDrive/Desktop/data-structure/array/Exercise.ipynb#X40sZmlsZQ%3D%3D?line=9'>10</a>\u001b[0m \u001b[39mfor\u001b[39;00m ch \u001b[39min\u001b[39;00m message:\n\u001b[1;32m---> <a href='vscode-notebook-cell:/c%3A/Users/i3hri/OneDrive/Desktop/data-structure/array/Exercise.ipynb#X40sZmlsZQ%3D%3D?line=10'>11</a>\u001b[0m     ans \u001b[39m+\u001b[39m\u001b[39m=\u001b[39m \u001b[39mmap\u001b[39m\u001b[39m.\u001b[39mget(ch, \u001b[39m\"\u001b[39m\u001b[39m \u001b[39m\u001b[39m\"\u001b[39m)\n\u001b[0;32m     <a href='vscode-notebook-cell:/c%3A/Users/i3hri/OneDrive/Desktop/data-structure/array/Exercise.ipynb#X40sZmlsZQ%3D%3D?line=11'>12</a>\u001b[0m \u001b[39mreturn\u001b[39;00m ans\n",
      "\u001b[1;31mTypeError\u001b[0m: can only concatenate str (not \"NoneType\") to str"
     ]
    }
   ],
   "source": [
    "# Input: key = \"eljuxhpwnyrdgtqkviszcfmabo\", message = \"zwx hnfx lqantp mnoeius ycgk vcnjrdb\"\n",
    "\n",
    "def solve(key, message):\n",
    "    map = {}\n",
    "    i = 97\n",
    "    for ch in key:\n",
    "        map[ch] = map.get(ch)\n",
    "        i+=1\n",
    "    ans = \"\"\n",
    "    for ch in message:\n",
    "        ans += map.get(ch, \" \")\n",
    "    return ans\n",
    "\n",
    "solve(\"the quick brown fox jumps over the lazy dog\", \"vkbs bs t suepuv\")"
   ]
  },
  {
   "cell_type": "code",
   "execution_count": null,
   "metadata": {},
   "outputs": [
    {
     "data": {
      "text/plain": [
       "'Hello how are you'"
      ]
     },
     "execution_count": 14,
     "metadata": {},
     "output_type": "execute_result"
    }
   ],
   "source": [
    "def truncateSentence(s: str, k: int) -> str:\n",
    "    result = \"\"\n",
    "    c = 0\n",
    "    for ch in s:\n",
    "        if ch == \" \":\n",
    "            c+=1\n",
    "            if c == k: break\n",
    "        result += ch\n",
    "    return result\n",
    "truncateSentence(\"Hello how are you Contestant\", 4)"
   ]
  },
  {
   "cell_type": "code",
   "execution_count": null,
   "metadata": {},
   "outputs": [
    {
     "data": {
      "text/plain": [
       "True"
      ]
     },
     "execution_count": 36,
     "metadata": {},
     "output_type": "execute_result"
    }
   ],
   "source": [
    "def destCity(firstWord,secondWord,targetWord):\n",
    "    first = \"\"\n",
    "    second = \"\"\n",
    "    target = \"\"\n",
    "    for ch in firstWord:\n",
    "        first += str(ord(ch)-97)\n",
    "    for ch in secondWord:\n",
    "        second += str(ord(ch)-97)\n",
    "    for ch in targetWord:\n",
    "        target += str(ord(ch)-97)\n",
    "    if int(first) + int(second) == int(target):\n",
    "        return True\n",
    "    return False\n",
    "\n",
    "destCity(firstWord = \"acb\", secondWord = \"cba\", targetWord = \"cdb\")"
   ]
  },
  {
   "cell_type": "code",
   "execution_count": null,
   "metadata": {},
   "outputs": [
    {
     "data": {
      "text/plain": [
       "'bacd'"
      ]
     },
     "execution_count": 58,
     "metadata": {},
     "output_type": "execute_result"
    }
   ],
   "source": [
    "def reverseStr(s: str, k: int) -> str:\n",
    "    ans = \"\"\n",
    "    p = 0\n",
    "    i = 0\n",
    "    while i < (len(s)):\n",
    "        if i+1 < len(s) and p % (2*k) == 0:\n",
    "            x,y = s[i],s[i+1]\n",
    "            ans += y\n",
    "            ans += x\n",
    "            p+=2\n",
    "            i +=2\n",
    "        else:\n",
    "            ans += s[i]\n",
    "            i+=1\n",
    "            p+=1\n",
    "    return ans\n",
    "reverseStr(\"abcd\", 2) #bacdfeg"
   ]
  },
  {
   "cell_type": "code",
   "execution_count": null,
   "metadata": {},
   "outputs": [
    {
     "name": "stdout",
     "output_type": "stream",
     "text": [
      "0\n"
     ]
    }
   ],
   "source": [
    "print(0%4)"
   ]
  },
  {
   "cell_type": "markdown",
   "metadata": {},
   "source": [
    "### Binary Search"
   ]
  },
  {
   "cell_type": "code",
   "execution_count": null,
   "metadata": {},
   "outputs": [
    {
     "data": {
      "text/plain": [
       "3"
      ]
     },
     "execution_count": 29,
     "metadata": {},
     "output_type": "execute_result"
    }
   ],
   "source": [
    "def search(nums, target):\n",
    "    low,high = 0, len(nums) - 1\n",
    "    while low <= high:\n",
    "        mid = (low + high) // 2\n",
    "        if target == nums[mid]:\n",
    "            return mid\n",
    "        elif target < nums[mid]:\n",
    "            high = mid - 1\n",
    "        else:\n",
    "            low = mid + 1\n",
    "    return -1\n",
    "\n",
    "search([1,3,5,6],6)"
   ]
  },
  {
   "cell_type": "markdown",
   "metadata": {},
   "source": [
    "```\n",
    "Given an array of sorted integers. The task is to find the closest value to the given number in array. Array may contain duplicate values.\n",
    "\n",
    "\n",
    "Input : Arr[] = {1, 3, 6, 7} and K = 4\n",
    "Output : 3\n",
    "Explanation:\n",
    "We have an array [1, 3, 6, 7] and target is 4.\n",
    "If we look at the absolute difference of target \n",
    "with every element of an array we will \n",
    "get [ |1-4|, |3-4|, |6-4|, |7-4| ]. \n",
    "So, the closest number is 3.\n",
    "```"
   ]
  },
  {
   "cell_type": "code",
   "execution_count": null,
   "metadata": {},
   "outputs": [
    {
     "data": {
      "text/plain": [
       "6"
      ]
     },
     "execution_count": 43,
     "metadata": {},
     "output_type": "execute_result"
    }
   ],
   "source": [
    "def solve(nums, k):\n",
    "    if k <= nums[0]: return nums[0]\n",
    "    if k >= nums[-1]: return nums[-1]\n",
    "\n",
    "    low,high = 0, len(nums)-1\n",
    "    while low <= high:\n",
    "        mid = (low + high) // 2\n",
    "        if k == nums[mid]:\n",
    "            return nums[mid]\n",
    "        elif k < nums[mid]:\n",
    "            high = mid - 1\n",
    "        else:\n",
    "            low = mid + 1\n",
    "\n",
    "    x = abs(nums[low]-k)\n",
    "    y = abs(nums[high]-k)\n",
    "    \n",
    "    if x <= y:\n",
    "        return nums[low]\n",
    "    else:\n",
    "        return nums[high]\n",
    "\n",
    "solve([1, 3, 6, 7], 5)"
   ]
  },
  {
   "cell_type": "markdown",
   "metadata": {},
   "source": [
    "### Akku and Binary Numbers\n",
    "```\n",
    "Akku likes binary numbers and she likes playing with these numbers. Her teacher once gave her a question.For given value of  L and R, Akku have to find the count of number X, which have only three-set bits in it's binary representation such that \"L ≤ X ≤ R\".Akku is genius, she solved the problem easily. Can you do it ??\n",
    "\n",
    "Example 1:\n",
    "\n",
    "Input:\n",
    "L = 11 and R = 19 \n",
    "Output: 4\n",
    "Explanation:\n",
    "There are 4 such numbers with 3 set bits in \n",
    "range 11 to 19.\n",
    "11 -> 1011\n",
    "13 -> 1101\n",
    "14 -> 1110\n",
    "19 -> 10011\n",
    "```"
   ]
  },
  {
   "cell_type": "code",
   "execution_count": null,
   "metadata": {},
   "outputs": [
    {
     "data": {
      "text/plain": [
       "5"
      ]
     },
     "execution_count": 39,
     "metadata": {},
     "output_type": "execute_result"
    }
   ],
   "source": [
    "def solve(low,high):\n",
    "    pass\n",
    "solve(11,19)"
   ]
  },
  {
   "cell_type": "code",
   "execution_count": null,
   "metadata": {},
   "outputs": [
    {
     "data": {
      "text/plain": [
       "-1"
      ]
     },
     "execution_count": 50,
     "metadata": {},
     "output_type": "execute_result"
    }
   ],
   "source": [
    "# Binary Search in Sorted Array - Descending Order\n",
    "# @return negative index\n",
    "\n",
    "def solve(nums,k):\n",
    "    l,h = 0, len(nums)-1\n",
    "    while l <= h:\n",
    "        mid = (l + h) // 2\n",
    "        if k == nums[mid]:\n",
    "            return mid - len(nums)\n",
    "        if k < nums[mid]:\n",
    "            l = mid + 1\n",
    "        else:\n",
    "            h = mid - 1\n",
    "    return -1\n",
    "solve([9,8,7,4,5,6,3,2],2)"
   ]
  },
  {
   "cell_type": "markdown",
   "metadata": {},
   "source": [
    "### Order-Agnostic Binary Search"
   ]
  },
  {
   "cell_type": "code",
   "execution_count": 80,
   "metadata": {},
   "outputs": [
    {
     "data": {
      "text/plain": [
       "4"
      ]
     },
     "execution_count": 80,
     "metadata": {},
     "output_type": "execute_result"
    }
   ],
   "source": [
    "def solve(nums, k):\n",
    "    low,high = 0, len(nums) -1\n",
    "    while low <= high:\n",
    "        mid = (low+high) // 2\n",
    "        if k == nums[mid]:\n",
    "            return mid\n",
    "        elif k < nums[mid]:\n",
    "            if nums[0] < nums[len(nums)//2]:\n",
    "                high = mid-1\n",
    "            else:\n",
    "                low = mid + 1\n",
    "        else:\n",
    "            if nums[0] < nums[len(nums)//2]:\n",
    "                low = mid + 1\n",
    "            else:\n",
    "                high = mid - 1\n",
    "solve([1,8,9,10,12],12)"
   ]
  },
  {
   "cell_type": "markdown",
   "metadata": {},
   "source": [
    "### First and Last Occurence of Element"
   ]
  },
  {
   "cell_type": "code",
   "execution_count": 25,
   "metadata": {},
   "outputs": [
    {
     "data": {
      "text/plain": [
       "0"
      ]
     },
     "execution_count": 25,
     "metadata": {},
     "output_type": "execute_result"
    }
   ],
   "source": [
    "def findOccurence(nums, k, occurence):\n",
    "    low,high = 0, len(nums)-1\n",
    "    current = -1\n",
    "    while low <= high:\n",
    "        mid = (low + high) // 2\n",
    "        if k == nums[mid]:\n",
    "            current = mid\n",
    "            if occurence == 'first':\n",
    "                high = mid - 1\n",
    "            else:\n",
    "                low = mid + 1\n",
    "        elif k < nums[mid]:\n",
    "            high = mid - 1\n",
    "        else:\n",
    "            low = mid + 1\n",
    "    return current\n",
    "    \n",
    "def firstAndLast(nums, k): \n",
    "    first = findOccurence(nums, k,'first')\n",
    "    last = findOccurence(nums, k,'last')\n",
    "    if first != -1 or last != -1:\n",
    "        return last - first + 1\n",
    "    return 0\n",
    "\n",
    "firstAndLast([0, 0, 0, 0, 1, 1, 1, 1,1], 5)"
   ]
  },
  {
   "cell_type": "code",
   "execution_count": null,
   "metadata": {},
   "outputs": [],
   "source": []
  }
 ],
 "metadata": {
  "kernelspec": {
   "display_name": "Python 3.10.4 64-bit",
   "language": "python",
   "name": "python3"
  },
  "language_info": {
   "codemirror_mode": {
    "name": "ipython",
    "version": 3
   },
   "file_extension": ".py",
   "mimetype": "text/x-python",
   "name": "python",
   "nbconvert_exporter": "python",
   "pygments_lexer": "ipython3",
   "version": "3.10.4"
  },
  "orig_nbformat": 4,
  "vscode": {
   "interpreter": {
    "hash": "2ff6f7f5029fee66e771e38cedfac1f775eb97d2c7dc6aeae1bd922d236f756a"
   }
  }
 },
 "nbformat": 4,
 "nbformat_minor": 2
}

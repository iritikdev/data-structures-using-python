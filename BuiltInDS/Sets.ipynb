{
 "cells": [
  {
   "cell_type": "code",
   "execution_count": 7,
   "metadata": {},
   "outputs": [
    {
     "name": "stdout",
     "output_type": "stream",
     "text": [
      "Unions:  {1, 2, 3, 4, 5, 6}\n",
      "Intersection:  {4, 6}\n",
      "Difference:  {1, 2, 3}\n",
      "Symmetric:  {1, 2, 3, 5}\n"
     ]
    }
   ],
   "source": [
    "numbers = [1,1,2,6,3,4]\n",
    "first = set(numbers)\n",
    "second = {4,5,6}\n",
    "\n",
    "print(\"Unions: \", first | second)\n",
    "print(\"Intersection: \", first & second)\n",
    "print(\"Difference: \", first - second)\n",
    "print(\"Symmetric: \", first ^ second)"
   ]
  },
  {
   "cell_type": "code",
   "execution_count": 8,
   "metadata": {},
   "outputs": [
    {
     "name": "stdout",
     "output_type": "stream",
     "text": [
      "Yes\n"
     ]
    }
   ],
   "source": [
    "if 1 in first:\n",
    "    print(\"Yes\")"
   ]
  }
 ],
 "metadata": {
  "interpreter": {
   "hash": "cef9e06bb236b2a8629b07e87a04b187b952a0f661eff5533360a155783f0c33"
  },
  "kernelspec": {
   "display_name": "Python 3.7.7 64-bit ('base': conda)",
   "language": "python",
   "name": "python3"
  },
  "language_info": {
   "codemirror_mode": {
    "name": "ipython",
    "version": 3
   },
   "file_extension": ".py",
   "mimetype": "text/x-python",
   "name": "python",
   "nbconvert_exporter": "python",
   "pygments_lexer": "ipython3",
   "version": "3.7.7"
  },
  "orig_nbformat": 4
 },
 "nbformat": 4,
 "nbformat_minor": 2
}

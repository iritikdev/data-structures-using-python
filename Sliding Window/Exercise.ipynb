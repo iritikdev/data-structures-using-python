{
 "cells": [
  {
   "cell_type": "markdown",
   "metadata": {},
   "source": [
    "### Sliding Window Technique"
   ]
  },
  {
   "cell_type": "code",
   "execution_count": 14,
   "metadata": {},
   "outputs": [
    {
     "data": {
      "text/plain": [
       "700"
      ]
     },
     "execution_count": 14,
     "metadata": {},
     "output_type": "execute_result"
    }
   ],
   "source": [
    "import sys\n",
    "def solve(nums,k,n):\n",
    "    i,j = 0,0\n",
    "    mx = 0\n",
    "    sum = 0\n",
    "    while j < n:\n",
    "        sum += nums[j]\n",
    "        if j-i + 1 < k:\n",
    "            j+=1\n",
    "        elif j - i + 1 == k:\n",
    "            mx = max(mx, sum)\n",
    "            sum -= nums[i]\n",
    "            j+=1\n",
    "            i+=1\n",
    "    return mx\n",
    "solve([100, 200, 300, 400],2,4)"
   ]
  },
  {
   "cell_type": "code",
   "execution_count": 13,
   "metadata": {},
   "outputs": [
    {
     "data": {
      "text/plain": [
       "700"
      ]
     },
     "execution_count": 13,
     "metadata": {},
     "output_type": "execute_result"
    }
   ],
   "source": [
    "import sys\n",
    "def solve(nums,k,n):\n",
    "    total = sum(nums[:k])\n",
    "    maxtotal = total\n",
    "    for i in range(n-k):\n",
    "        total -= nums[i]\n",
    "        total += nums[i+k]\n",
    "        maxtotal = max(maxtotal, total)\n",
    "    return maxtotal\n",
    "solve([100, 200, 300, 400],2,4)"
   ]
  },
  {
   "cell_type": "code",
   "execution_count": 11,
   "metadata": {},
   "outputs": [
    {
     "data": {
      "text/plain": [
       "[3, 3, 4, 5, 5, 5, 6]"
      ]
     },
     "execution_count": 11,
     "metadata": {},
     "output_type": "execute_result"
    }
   ],
   "source": [
    "def max_of_subarrays(arr,n,k):\n",
    "    i,j = 0,0\n",
    "    m = 0\n",
    "    s = 0\n",
    "    ans = []\n",
    "    while j < n:\n",
    "        m = max(arr[j],m)\n",
    "        if j-i+1 < k:\n",
    "            j+=1\n",
    "        elif j-i+1 == k:\n",
    "            ans.append(m)\n",
    "            j+=1\n",
    "            i+=1\n",
    "    return ans\n",
    "max_of_subarrays([1, 2, 3, 1, 4, 5, 2, 3, 6],9,3)"
   ]
  },
  {
   "cell_type": "markdown",
   "metadata": {},
   "source": [
    "### First negative number in every window size\n",
    "```\n",
    "nums = [12,-1,-7,8,-15,30,16,28]\n",
    "n(array lenght) = 8\n",
    "k(window size) = 3\n",
    "```"
   ]
  },
  {
   "cell_type": "code",
   "execution_count": 10,
   "metadata": {},
   "outputs": [
    {
     "data": {
      "text/plain": [
       "[-1, -1, -7, -15, -15, 0]"
      ]
     },
     "execution_count": 10,
     "metadata": {},
     "output_type": "execute_result"
    }
   ],
   "source": [
    "def solve(nums,n,k):\n",
    "    i,j = 0,0\n",
    "    queue = []\n",
    "    result = []\n",
    "    while j < n:\n",
    "        current_window = j-i+1\n",
    "        if nums[j] < 0: queue.append(nums[j])\n",
    "        if current_window < k: j+=1\n",
    "        elif current_window == k:\n",
    "            if len(queue) == 0: result.append(0)\n",
    "            else:\n",
    "                result.append(queue[0])\n",
    "                if nums[i] == queue[0]: queue.pop(0)\n",
    "            i+=1\n",
    "            j+=1\n",
    "    return result\n",
    "solve([12,-1,-7,8,-15,30,16,28],8,3)"
   ]
  },
  {
   "cell_type": "markdown",
   "metadata": {},
   "source": [
    "### Count negative elements present in every k-length subarray\n",
    "```\n",
    "Input: arr = [-1, 2, -2, 3, 5, -7, -5], K = 3\n",
    "Output: 2, 1, 1, 1, 2\n",
    "```"
   ]
  },
  {
   "cell_type": "code",
   "execution_count": 17,
   "metadata": {},
   "outputs": [
    {
     "data": {
      "text/plain": [
       "[2, 1, 1, 1, 2]"
      ]
     },
     "execution_count": 17,
     "metadata": {},
     "output_type": "execute_result"
    }
   ],
   "source": [
    "def solve(arr,k):\n",
    "    window = arr[:k]\n",
    "    count = 0\n",
    "    for i in window:\n",
    "        if i < 0: count+=1\n",
    "    negatives = [count]\n",
    "    for i in range(len(arr)-k):\n",
    "        if arr[i] < 0: count-=1\n",
    "        if arr[i+k] < 0: count += 1\n",
    "        negatives.append(count)\n",
    "    return negatives\n",
    "\n",
    "solve([-1, 2, -2, 3, 5, -7, -5],3)"
   ]
  }
 ],
 "metadata": {
  "kernelspec": {
   "display_name": "Python 3.10.4 64-bit",
   "language": "python",
   "name": "python3"
  },
  "language_info": {
   "codemirror_mode": {
    "name": "ipython",
    "version": 3
   },
   "file_extension": ".py",
   "mimetype": "text/x-python",
   "name": "python",
   "nbconvert_exporter": "python",
   "pygments_lexer": "ipython3",
   "version": "3.10.4"
  },
  "orig_nbformat": 4,
  "vscode": {
   "interpreter": {
    "hash": "2ff6f7f5029fee66e771e38cedfac1f775eb97d2c7dc6aeae1bd922d236f756a"
   }
  }
 },
 "nbformat": 4,
 "nbformat_minor": 2
}

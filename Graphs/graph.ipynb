{
 "cells": [
  {
   "cell_type": "code",
   "execution_count": 23,
   "metadata": {},
   "outputs": [
    {
     "data": {
      "text/plain": [
       "True"
      ]
     },
     "execution_count": 23,
     "metadata": {},
     "output_type": "execute_result"
    }
   ],
   "source": [
    "def depthFirstSearch (graph, source):\n",
    "    stack = [source]\n",
    "    visited = list()\n",
    "    while stack:\n",
    "        current = stack.pop()\n",
    "        visited.append(current)\n",
    "        for neighbour in graph[current]:\n",
    "            stack.append(neighbour)\n",
    "    return visited\n",
    "\n",
    "def depthFirstRecursive (graph, source, visited):\n",
    "    visited.append(source)\n",
    "    for neighbour in graph[source]:\n",
    "        depthFirstRecursive(graph, neighbour,visited)\n",
    "\n",
    "def breadthFirstSearch (graph, source):\n",
    "    queue = [source]\n",
    "    visited = list()\n",
    "    while queue:\n",
    "        current = queue.pop(0)\n",
    "        visited.append(current)\n",
    "        for neighbour in graph[current]:\n",
    "            queue.append(neighbour)\n",
    "    return visited\n",
    "\n",
    "def hasPath (graph, src, dst):\n",
    "    if src == dst: return True\n",
    "    for neighbour in graph[src]:\n",
    "        if hasPath(graph, neighbour,dst):\n",
    "            return True\n",
    "    return False\n",
    "\n",
    "def hasPathV2 (graph, src, dst):\n",
    "    queue = [src]\n",
    "    while queue:\n",
    "        current = queue.pop(0)\n",
    "        if current == dst:\n",
    "            return True\n",
    "        for neighbor in graph[current]:\n",
    "            queue.append(neighbor)\n",
    "    return False\n",
    "\n",
    "\n",
    "graph = {\n",
    "    'a' : ['b','c'],\n",
    "    'b' : ['d'],\n",
    "    'c' : ['e'],\n",
    "    'd' : ['f'],\n",
    "    'e' : [],\n",
    "    'f' : []\n",
    "}\n",
    "\n",
    "hasPathV2(graph,'a','f')"
   ]
  }
 ],
 "metadata": {
  "kernelspec": {
   "display_name": "Python 3.10.4 64-bit",
   "language": "python",
   "name": "python3"
  },
  "language_info": {
   "codemirror_mode": {
    "name": "ipython",
    "version": 3
   },
   "file_extension": ".py",
   "mimetype": "text/x-python",
   "name": "python",
   "nbconvert_exporter": "python",
   "pygments_lexer": "ipython3",
   "version": "3.10.4"
  },
  "orig_nbformat": 4,
  "vscode": {
   "interpreter": {
    "hash": "2ff6f7f5029fee66e771e38cedfac1f775eb97d2c7dc6aeae1bd922d236f756a"
   }
  }
 },
 "nbformat": 4,
 "nbformat_minor": 2
}

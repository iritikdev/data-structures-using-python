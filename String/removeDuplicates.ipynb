{
 "cells": [
  {
   "cell_type": "markdown",
   "metadata": {},
   "source": [
    "##### Remove all duplicates from the input string.\t\n"
   ]
  },
  {
   "cell_type": "code",
   "execution_count": 1,
   "metadata": {},
   "outputs": [
    {
     "name": "stdout",
     "output_type": "stream",
     "text": [
      "geksfor\n"
     ]
    }
   ],
   "source": [
    "def removeDuplicates(input):\n",
    "    ans = \"\"\n",
    "    for char in input:\n",
    "        if char not in ans:\n",
    "            ans += char\n",
    "    print(ans)\n",
    "\n",
    "\n",
    "removeDuplicates(\"geeksforgeeks\")"
   ]
  },
  {
   "cell_type": "code",
   "execution_count": 3,
   "metadata": {},
   "outputs": [
    {
     "data": {
      "text/plain": [
       "'sokfgre'"
      ]
     },
     "execution_count": 3,
     "metadata": {},
     "output_type": "execute_result"
    }
   ],
   "source": [
    "def removeDuplicates(s):\n",
    "    x = set()\n",
    "    for c in s:\n",
    "        x.add(c)\n",
    "    ans = \"\"\n",
    "    for e in x:\n",
    "        ans += e\n",
    "    return ans\n",
    "\n",
    "removeDuplicates(\"geeksforgeeks\")"
   ]
  }
 ],
 "metadata": {
  "kernelspec": {
   "display_name": "Python 3.10.4 64-bit",
   "language": "python",
   "name": "python3"
  },
  "language_info": {
   "codemirror_mode": {
    "name": "ipython",
    "version": 3
   },
   "file_extension": ".py",
   "mimetype": "text/x-python",
   "name": "python",
   "nbconvert_exporter": "python",
   "pygments_lexer": "ipython3",
   "version": "3.10.4"
  },
  "orig_nbformat": 4,
  "vscode": {
   "interpreter": {
    "hash": "2ff6f7f5029fee66e771e38cedfac1f775eb97d2c7dc6aeae1bd922d236f756a"
   }
  }
 },
 "nbformat": 4,
 "nbformat_minor": 2
}

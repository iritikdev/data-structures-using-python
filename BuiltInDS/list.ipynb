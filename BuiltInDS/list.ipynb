{
 "cells": [
  {
   "cell_type": "markdown",
   "metadata": {},
   "source": [
    "### List"
   ]
  },
  {
   "cell_type": "code",
   "execution_count": null,
   "metadata": {},
   "outputs": [],
   "source": [
    "letters = [\"a\", \"b\", 'c']\n",
    "print(letters)"
   ]
  },
  {
   "cell_type": "code",
   "execution_count": null,
   "metadata": {},
   "outputs": [],
   "source": [
    "matrix = [[1,2,3], [4,5,6]]\n",
    "matrix"
   ]
  },
  {
   "cell_type": "code",
   "execution_count": null,
   "metadata": {},
   "outputs": [],
   "source": [
    "zeros = [0] * 10\n",
    "print(zeros)"
   ]
  },
  {
   "cell_type": "code",
   "execution_count": null,
   "metadata": {},
   "outputs": [],
   "source": [
    "combined = zeros + letters\n",
    "print(combined)"
   ]
  },
  {
   "cell_type": "code",
   "execution_count": null,
   "metadata": {},
   "outputs": [],
   "source": [
    "numbers = list(range(20))\n",
    "print(numbers)"
   ]
  },
  {
   "cell_type": "code",
   "execution_count": null,
   "metadata": {},
   "outputs": [],
   "source": [
    "chars = list(\"Hello World\")\n",
    "chars"
   ]
  },
  {
   "cell_type": "code",
   "execution_count": null,
   "metadata": {},
   "outputs": [],
   "source": [
    "len(chars)"
   ]
  },
  {
   "cell_type": "markdown",
   "metadata": {},
   "source": [
    "### Accessing Items"
   ]
  },
  {
   "cell_type": "code",
   "execution_count": null,
   "metadata": {},
   "outputs": [],
   "source": [
    "letters = ['a','b','c','d','e']\n",
    "letters[0] = 'A'\n",
    "print(letters)"
   ]
  },
  {
   "cell_type": "code",
   "execution_count": null,
   "metadata": {},
   "outputs": [],
   "source": [
    "letters[0:3]"
   ]
  },
  {
   "cell_type": "code",
   "execution_count": null,
   "metadata": {},
   "outputs": [],
   "source": [
    "letters[0:]"
   ]
  },
  {
   "cell_type": "code",
   "execution_count": null,
   "metadata": {},
   "outputs": [],
   "source": [
    "letters[0:5]"
   ]
  },
  {
   "cell_type": "code",
   "execution_count": null,
   "metadata": {},
   "outputs": [],
   "source": [
    "letters[0:100]"
   ]
  },
  {
   "cell_type": "code",
   "execution_count": null,
   "metadata": {},
   "outputs": [],
   "source": [
    "# Generating even and odd numbers \n",
    "\n",
    "numbers = list(range(20))\n",
    "even = numbers[::2]\n",
    "odd = numbers[1::2]\n",
    "reverse = numbers[::-1]\n",
    "\n",
    "reverse"
   ]
  },
  {
   "cell_type": "markdown",
   "metadata": {},
   "source": [
    "### List unpacking"
   ]
  },
  {
   "cell_type": "code",
   "execution_count": null,
   "metadata": {},
   "outputs": [],
   "source": [
    "# general way\n",
    "items = [1,2,3]\n",
    "first = items[0]\n",
    "second = items[1]\n",
    "third = items[2]\n",
    "\n",
    "print(first, second, third)"
   ]
  },
  {
   "cell_type": "code",
   "execution_count": null,
   "metadata": {},
   "outputs": [],
   "source": [
    "# In Pythonists ways...\n",
    "items = [1,2,3]\n",
    "\n",
    "# number of element in list should equal to number of variables if dosen't it will cause a 'ValueError'\n",
    "a, b, c = items\n",
    "\n",
    "a,b,c"
   ]
  },
  {
   "cell_type": "code",
   "execution_count": null,
   "metadata": {},
   "outputs": [],
   "source": [
    "items = [1,2,3,4,7,8,9,6]\n",
    "a,b, *others = items\n",
    "\n",
    "print(a,b)\n",
    "print(others)"
   ]
  },
  {
   "cell_type": "code",
   "execution_count": null,
   "metadata": {},
   "outputs": [],
   "source": [
    "items = [1,2,3,4,7,8,9,6]\n",
    "\n",
    "first, *other, last = items\n",
    "\n",
    "print(first, last)\n",
    "print(other)"
   ]
  },
  {
   "cell_type": "markdown",
   "metadata": {},
   "source": [
    "### Looping over Lists"
   ]
  },
  {
   "cell_type": "code",
   "execution_count": null,
   "metadata": {},
   "outputs": [],
   "source": [
    "letters = ['a','b','c']\n",
    "for letter in letters:\n",
    "    print(letter) "
   ]
  },
  {
   "cell_type": "code",
   "execution_count": null,
   "metadata": {},
   "outputs": [],
   "source": [
    "letters = ['a','b','c']\n",
    "for index, letter in enumerate(letters):\n",
    "    print(index, letter)  "
   ]
  },
  {
   "cell_type": "markdown",
   "metadata": {},
   "source": [
    "### Adding and Removing Item"
   ]
  },
  {
   "cell_type": "code",
   "execution_count": null,
   "metadata": {},
   "outputs": [],
   "source": [
    "numbers = [10,20,30]\n",
    "\n",
    "# add items\n",
    "numbers.append(40)\n",
    "numbers.insert(2, 50)\n",
    "\n",
    "print(numbers)"
   ]
  },
  {
   "cell_type": "code",
   "execution_count": 1,
   "metadata": {},
   "outputs": [
    {
     "name": "stdout",
     "output_type": "stream",
     "text": [
      "[10, 20, 30, [40, 50]]\n"
     ]
    }
   ],
   "source": [
    "numbers = [10,20,30]\n",
    "numbers.append([40,50])\n",
    "print(numbers)"
   ]
  },
  {
   "cell_type": "code",
   "execution_count": 5,
   "metadata": {},
   "outputs": [
    {
     "name": "stdout",
     "output_type": "stream",
     "text": [
      "[10, 20, 30, 1, 2, 3]\n"
     ]
    }
   ],
   "source": [
    "numbers = [10,20,30]\n",
    "\n",
    "# Below both line are identical...\n",
    "# numbers[len(numbers):] = [40,50]\n",
    "numbers.extend((1,2,3))\n",
    "\n",
    "print(numbers)"
   ]
  },
  {
   "cell_type": "code",
   "execution_count": null,
   "metadata": {},
   "outputs": [],
   "source": [
    "# Remove\n",
    "numbers = [10,20,30]\n",
    "\n",
    "numbers.pop() # remove last item\n",
    "numbers.remove(10) # remove by value\n",
    "\n",
    "numbers"
   ]
  },
  {
   "cell_type": "code",
   "execution_count": null,
   "metadata": {},
   "outputs": [],
   "source": [
    "numbers = [10,20,30]\n",
    "\n",
    "del numbers[0] # numbers[1:2]\n",
    "numbers.clear() # remove all element at once\n",
    "\n",
    "print(numbers)"
   ]
  },
  {
   "cell_type": "markdown",
   "metadata": {},
   "source": [
    "### Finding items"
   ]
  },
  {
   "cell_type": "code",
   "execution_count": null,
   "metadata": {},
   "outputs": [],
   "source": [
    "nums = [2,4,6,8]\n",
    "\n",
    "# item is present in list\n",
    "nums.index(4)\n",
    "\n",
    "# if not, gives a ValueError\n",
    "# for avoiding it check first to before access it\n",
    "\n",
    "if 10 in nums:\n",
    "    print(nums.index(10))\n",
    "\n",
    "# return number of Occurences of a value\n",
    "nums.count(6)"
   ]
  },
  {
   "cell_type": "markdown",
   "metadata": {},
   "source": [
    "### Sorting Lists"
   ]
  },
  {
   "cell_type": "code",
   "execution_count": null,
   "metadata": {},
   "outputs": [],
   "source": [
    "numbers = [4,5,78,0,4,14,23]\n",
    "\n",
    "# By Default, Ascending manner\n",
    "numbers.sort() \n",
    "\n",
    "# Decreasing order\n",
    "numbers.sort(reverse=True)\n",
    "\n",
    "# built-in sorted()\n",
    "# Return a new list containing all items from the iterable in ascending order.\n",
    "print(sorted(numbers))\n",
    "print(sorted(numbers, reverse=True))\n",
    "\n",
    "print(numbers)"
   ]
  },
  {
   "cell_type": "code",
   "execution_count": null,
   "metadata": {},
   "outputs": [],
   "source": [
    "# sorting objects\n",
    "\n",
    "orders = [\n",
    "    ('chicken curry', 10),\n",
    "    ('Samosha', 5),\n",
    "    ('Dosa', 65),\n",
    "]\n",
    "\n",
    "def sorted_price(item):\n",
    "    return item[1]\n",
    "\n",
    "orders.sort(key=sorted_price)\n",
    "\n",
    "print(orders)"
   ]
  },
  {
   "cell_type": "markdown",
   "metadata": {},
   "source": [
    "Using **`lamdas`** function, we can more simplifies it"
   ]
  },
  {
   "cell_type": "code",
   "execution_count": null,
   "metadata": {},
   "outputs": [],
   "source": [
    "\n",
    "orders = [\n",
    "    ('chicken curry', 10),\n",
    "    ('Samosha', 5),\n",
    "    ('Dosa', 65),\n",
    "]\n",
    "\n",
    "# lambda parameter:expression\n",
    "orders.sort(key=lambda item: item[1])\n",
    "\n",
    "print(orders)"
   ]
  },
  {
   "cell_type": "markdown",
   "metadata": {},
   "source": [
    "mapping orders list in prices"
   ]
  },
  {
   "cell_type": "code",
   "execution_count": null,
   "metadata": {},
   "outputs": [],
   "source": [
    "# Naive ways...\n",
    "orders = [\n",
    "    ('chicken curry', 10),\n",
    "    ('Samosha', 5),\n",
    "    ('Dosa', 65),\n",
    "]\n",
    "prices = []\n",
    "for order in orders:\n",
    "    prices.append(order[1])\n",
    "\n",
    "print(prices)"
   ]
  },
  {
   "cell_type": "markdown",
   "metadata": {},
   "source": [
    "using **`map(function, iterables)`**"
   ]
  },
  {
   "cell_type": "code",
   "execution_count": null,
   "metadata": {},
   "outputs": [],
   "source": [
    "# Pythonista way...\n",
    "orders = [\n",
    "    ('chicken curry', 10),\n",
    "    ('Samosha', 5),\n",
    "    ('Dosa', 65),\n",
    "]\n",
    "\n",
    "prices = list(map(lambda order:order[1], orders))\n",
    "\n",
    "# iterate overs prices\n",
    "# for price in prices:\n",
    "#     print(price)\n",
    "\n",
    "print(prices)"
   ]
  },
  {
   "cell_type": "markdown",
   "metadata": {},
   "source": [
    "**`filter` function**"
   ]
  },
  {
   "cell_type": "code",
   "execution_count": null,
   "metadata": {},
   "outputs": [],
   "source": [
    "filterd = list(filter(lambda order: order[1] >= 10, orders))\n",
    "\n",
    "filterd"
   ]
  },
  {
   "cell_type": "markdown",
   "metadata": {},
   "source": [
    "### List Comprehension"
   ]
  },
  {
   "cell_type": "code",
   "execution_count": null,
   "metadata": {},
   "outputs": [],
   "source": [
    "# expression for item in items\n",
    "# prices = list(map(lambda order:order[1], orders))\n",
    "prices = [order[1] for order in orders]\n",
    "\n",
    "# filterd = list(filter(lambda order: order[1] >= 10, orders))\n",
    "filterd = [order for order in orders if order[1] >= 10]\n",
    "\n",
    "print(filterd)"
   ]
  },
  {
   "cell_type": "markdown",
   "metadata": {},
   "source": [
    "### **`zip()`** Function"
   ]
  },
  {
   "cell_type": "code",
   "execution_count": null,
   "metadata": {},
   "outputs": [],
   "source": [
    "odd = [1,3,5,7]\n",
    "even = [2,4,6,8]\n",
    "\n",
    "list(zip(odd ,even, \"abcd\"))"
   ]
  },
  {
   "cell_type": "markdown",
   "metadata": {},
   "source": [
    "### Stack"
   ]
  },
  {
   "cell_type": "code",
   "execution_count": null,
   "metadata": {},
   "outputs": [],
   "source": [
    "browsing_session = []\n",
    "\n",
    "browsing_session.append('fb.com')\n",
    "browsing_session.append('bing.com')\n",
    "browsing_session.append('google.com')\n",
    "\n",
    "browsing_session.pop()\n",
    "print(\"redirect \", browsing_session[1])\n",
    "\n",
    "browsing_session"
   ]
  },
  {
   "cell_type": "markdown",
   "metadata": {},
   "source": [
    "### Queue"
   ]
  },
  {
   "cell_type": "code",
   "execution_count": null,
   "metadata": {},
   "outputs": [],
   "source": [
    "from collections import deque\n",
    "\n",
    "queue = deque([])\n",
    "\n",
    "queue.append(10)\n",
    "queue.append(20)\n",
    "queue.append(30)\n",
    "\n",
    "queue.popleft()\n",
    "\n",
    "print(queue)"
   ]
  },
  {
   "cell_type": "code",
   "execution_count": 7,
   "metadata": {},
   "outputs": [
    {
     "data": {
      "text/plain": [
       "[1, 2, 3, 4, 5, 7, 8, 9]"
      ]
     },
     "execution_count": 7,
     "metadata": {},
     "output_type": "execute_result"
    }
   ],
   "source": [
    "import math\n",
    "numbers = [1,4,9,16,25,49,64,81]\n",
    "\n",
    "square_root = [int(math.sqrt(number)) for number in numbers ]"
   ]
  }
 ],
 "metadata": {
  "interpreter": {
   "hash": "cef9e06bb236b2a8629b07e87a04b187b952a0f661eff5533360a155783f0c33"
  },
  "kernelspec": {
   "display_name": "Python 3.7.7 64-bit ('base': conda)",
   "language": "python",
   "name": "python3"
  },
  "language_info": {
   "codemirror_mode": {
    "name": "ipython",
    "version": 3
   },
   "file_extension": ".py",
   "mimetype": "text/x-python",
   "name": "python",
   "nbconvert_exporter": "python",
   "pygments_lexer": "ipython3",
   "version": "3.7.7"
  },
  "orig_nbformat": 4
 },
 "nbformat": 4,
 "nbformat_minor": 2
}

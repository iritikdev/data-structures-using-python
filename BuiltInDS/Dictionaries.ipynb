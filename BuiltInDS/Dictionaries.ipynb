{
 "cells": [
  {
   "cell_type": "markdown",
   "metadata": {},
   "source": [
    "### Dictionary\n",
    "- collection of key and value pair"
   ]
  },
  {
   "cell_type": "code",
   "execution_count": null,
   "metadata": {},
   "outputs": [],
   "source": [
    "# Empty dictiony\n",
    "point = dict()\n",
    "\n",
    "point = {\"x\": 1, \"y\" : 2}\n",
    "\n",
    "# Prefered way : cleaner and shorter \n",
    "point = dict(x=1, y=2)\n",
    "\n",
    "print(point)"
   ]
  },
  {
   "cell_type": "markdown",
   "metadata": {},
   "source": [
    "### Accessing items"
   ]
  },
  {
   "cell_type": "code",
   "execution_count": null,
   "metadata": {},
   "outputs": [],
   "source": [
    "point = dict(x=1, y=2)\n",
    "\n",
    "# modify value\n",
    "point[\"x\"] = 10\n",
    "\n",
    "# using key\n",
    "print(point[\"x\"], point[\"y\"])\n",
    "\n",
    "# Acessing a key that is not in dictionary, resulting a 'KeyError'\n",
    "# To solve this, check first for its availibilty\n",
    "if 'a' in point:\n",
    "    print(point['a'])\n",
    "\n",
    "# Instead of using above method\n",
    "# use get() method, not give an error\n",
    "print(point.get(\"a\", -1))\n",
    "\n",
    "\n",
    "# deleting an item\n",
    "del point[\"x\"]\n",
    "\n",
    "print(point)\n",
    "\n",
    "\n"
   ]
  },
  {
   "cell_type": "markdown",
   "metadata": {},
   "source": [
    "### Looping over Dictionaries"
   ]
  },
  {
   "cell_type": "code",
   "execution_count": null,
   "metadata": {},
   "outputs": [],
   "source": [
    "point = dict(x=1, y=2, z=3)\n",
    "\n",
    "for key, value in point.items():\n",
    "    print(key, value)"
   ]
  },
  {
   "cell_type": "markdown",
   "metadata": {},
   "source": [
    "### Dictionary Comprehension"
   ]
  },
  {
   "cell_type": "code",
   "execution_count": null,
   "metadata": {},
   "outputs": [],
   "source": [
    "values = {x: x * 2 for x in range(5)}\n",
    "\n",
    "print(values)"
   ]
  },
  {
   "cell_type": "markdown",
   "metadata": {},
   "source": [
    "### Generator Expressions"
   ]
  },
  {
   "cell_type": "code",
   "execution_count": null,
   "metadata": {},
   "outputs": [],
   "source": [
    "values = (x * 2 for x in range(5))\n",
    "\n",
    "for x in values:\n",
    "    print(x)"
   ]
  },
  {
   "cell_type": "markdown",
   "metadata": {},
   "source": [
    "Get size of generator object"
   ]
  },
  {
   "cell_type": "markdown",
   "metadata": {},
   "source": [
    "if you are working with large datasets, for memory efficiency you can **generator**\n",
    "\n",
    "in each iteration it gives next value"
   ]
  },
  {
   "cell_type": "code",
   "execution_count": null,
   "metadata": {},
   "outputs": [],
   "source": [
    "from sys import getsizeof\n",
    "\n",
    "# values: generator object \n",
    "values = (x * 2 for x in range(100))\n",
    "print(getsizeof(values))\n",
    "\n",
    "values = [x * 2 for x in range(100)]\n",
    "print(getsizeof(values))\n"
   ]
  },
  {
   "cell_type": "markdown",
   "metadata": {},
   "source": [
    "#### Unpacking Operator"
   ]
  },
  {
   "cell_type": "code",
   "execution_count": null,
   "metadata": {},
   "outputs": [],
   "source": [
    "nums = [1,2,3]\n",
    "print(nums)\n",
    "print(*nums)"
   ]
  },
  {
   "cell_type": "code",
   "execution_count": null,
   "metadata": {},
   "outputs": [],
   "source": [
    "values = list(range(5))\n",
    "\n",
    "values = [*range(5), *'Eirik']\n",
    "\n",
    "print(values)"
   ]
  },
  {
   "cell_type": "code",
   "execution_count": null,
   "metadata": {},
   "outputs": [],
   "source": [
    "even = [2,4,6]\n",
    "odd = [1,3,7]\n",
    "\n",
    "nums = [*even, *odd]\n",
    "\n",
    "nums.sort()\n",
    "\n",
    "print(nums)"
   ]
  },
  {
   "cell_type": "code",
   "execution_count": null,
   "metadata": {},
   "outputs": [],
   "source": [
    "first = dict(x=1)\n",
    "second = dict(y=2)\n",
    "\n",
    "combined = {**first, **second}\n",
    "\n",
    "print(combined)"
   ]
  }
 ],
 "metadata": {
  "interpreter": {
   "hash": "cef9e06bb236b2a8629b07e87a04b187b952a0f661eff5533360a155783f0c33"
  },
  "kernelspec": {
   "display_name": "Python 3.7.7 64-bit ('base': conda)",
   "language": "python",
   "name": "python3"
  },
  "language_info": {
   "codemirror_mode": {
    "name": "ipython",
    "version": 3
   },
   "file_extension": ".py",
   "mimetype": "text/x-python",
   "name": "python",
   "nbconvert_exporter": "python",
   "pygments_lexer": "ipython3",
   "version": "3.7.7"
  },
  "orig_nbformat": 4
 },
 "nbformat": 4,
 "nbformat_minor": 2
}

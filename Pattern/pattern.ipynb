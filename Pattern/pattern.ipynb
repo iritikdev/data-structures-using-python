{
 "cells": [
  {
   "cell_type": "code",
   "execution_count": 13,
   "metadata": {},
   "outputs": [
    {
     "name": "stdout",
     "output_type": "stream",
     "text": [
      "*     \n",
      " *    \n",
      "  *   \n",
      "   *  \n",
      "    * \n"
     ]
    }
   ],
   "source": [
    "for i in range(5):\n",
    "    for j in range(5):\n",
    "        if i == j:\n",
    "            print(\"*\", end=\" \")\n",
    "\n",
    "        else: print(\"\", end=' ')\n",
    "    print()"
   ]
  },
  {
   "cell_type": "markdown",
   "metadata": {},
   "source": [
    "### Digit Frequency"
   ]
  },
  {
   "cell_type": "code",
   "execution_count": 15,
   "metadata": {},
   "outputs": [
    {
     "data": {
      "text/plain": [
       "4"
      ]
     },
     "execution_count": 15,
     "metadata": {},
     "output_type": "execute_result"
    }
   ],
   "source": [
    "def solve(strs, key):\n",
    "    count = 0\n",
    "    for ch in strs:\n",
    "        if ch == key:\n",
    "            count+=1\n",
    "    return count\n",
    "\n",
    "solve(\"123456333\", '3')\n"
   ]
  },
  {
   "cell_type": "markdown",
   "metadata": {},
   "source": [
    "### Decimal to Any Base"
   ]
  },
  {
   "cell_type": "code",
   "execution_count": 24,
   "metadata": {},
   "outputs": [
    {
     "data": {
      "text/plain": [
       "173"
      ]
     },
     "execution_count": 24,
     "metadata": {},
     "output_type": "execute_result"
    }
   ],
   "source": [
    "def decimalToAnyBase(num, base):\n",
    "    result = 0\n",
    "    i = 0\n",
    "    while num > 0:\n",
    "        remainder = num % base\n",
    "        num = num // base\n",
    "        result += remainder * pow(10,i)\n",
    "        i+=1\n",
    "    return result\n",
    "    \n",
    "\n",
    "decimalToAnyBase(123,8)"
   ]
  },
  {
   "cell_type": "code",
   "execution_count": 28,
   "metadata": {},
   "outputs": [
    {
     "data": {
      "text/plain": [
       "32"
      ]
     },
     "execution_count": 28,
     "metadata": {},
     "output_type": "execute_result"
    }
   ],
   "source": [
    "# AnyBaseToDecomal\n",
    "\n",
    "def AnyBaseToDecimal(num, base):\n",
    "    result = 0\n",
    "    i = 0\n",
    "    while num > 0:\n",
    "        remainder = num % 10\n",
    "        num = num // 10\n",
    "        result += remainder * pow(base, i)\n",
    "        i += 1\n",
    "    return result\n",
    "\n",
    "AnyBaseToDecimal(100000,2)"
   ]
  },
  {
   "cell_type": "code",
   "execution_count": 38,
   "metadata": {},
   "outputs": [
    {
     "data": {
      "text/plain": [
       "16"
      ]
     },
     "execution_count": 38,
     "metadata": {},
     "output_type": "execute_result"
    }
   ],
   "source": [
    "def AnyBaseToAny(num, a, b):\n",
    "    i = 0\n",
    "    res = 0\n",
    "    while num > 0:\n",
    "        rem = num % b\n",
    "        num //= b\n",
    "        res += rem * pow(a,i)\n",
    "        i += 1\n",
    "    return res\n",
    "\n",
    "AnyBaseToAny(10000,2,10)"
   ]
  }
 ],
 "metadata": {
  "kernelspec": {
   "display_name": "Python 3.10.4 64-bit",
   "language": "python",
   "name": "python3"
  },
  "language_info": {
   "codemirror_mode": {
    "name": "ipython",
    "version": 3
   },
   "file_extension": ".py",
   "mimetype": "text/x-python",
   "name": "python",
   "nbconvert_exporter": "python",
   "pygments_lexer": "ipython3",
   "version": "3.10.4"
  },
  "orig_nbformat": 4,
  "vscode": {
   "interpreter": {
    "hash": "2ff6f7f5029fee66e771e38cedfac1f775eb97d2c7dc6aeae1bd922d236f756a"
   }
  }
 },
 "nbformat": 4,
 "nbformat_minor": 2
}

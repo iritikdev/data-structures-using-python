{
 "cells": [
  {
   "cell_type": "markdown",
   "metadata": {},
   "source": [
    "### 1. Reverse a string using stack"
   ]
  },
  {
   "cell_type": "code",
   "execution_count": 3,
   "metadata": {},
   "outputs": [
    {
     "data": {
      "text/plain": [
       "'dcba'"
      ]
     },
     "execution_count": 3,
     "metadata": {},
     "output_type": "execute_result"
    }
   ],
   "source": [
    "def solve(input):\n",
    "    result = \"\"\n",
    "    stack = []\n",
    "    for ch in input:\n",
    "        stack.append(ch)\n",
    "    while stack:\n",
    "        result += stack.pop()\n",
    "    return result\n",
    "\n",
    "solve(\"abcd\")"
   ]
  },
  {
   "cell_type": "markdown",
   "metadata": {},
   "source": [
    "### 2. Blanced Expression using stack"
   ]
  },
  {
   "cell_type": "code",
   "execution_count": 11,
   "metadata": {},
   "outputs": [
    {
     "data": {
      "text/plain": [
       "False"
      ]
     },
     "execution_count": 11,
     "metadata": {},
     "output_type": "execute_result"
    }
   ],
   "source": [
    "def isBalanced(input):\n",
    "    stack = []\n",
    "    for ch in input:\n",
    "        if ch == \"(\" or ch == \"{\" or ch == \"[\":\n",
    "            stack.append(ch)\n",
    "        if ch == \")\" or ch == \"}\" or ch == \"]\":\n",
    "            if len(stack) == 0: return False\n",
    "            top = stack.pop()\n",
    "            if ch == \"(\" and top != \")\" or ch == \"{\" and top != \"}\" or ch == \"[\" and top != \"]\":\n",
    "                return False\n",
    "    return len(stack) == 0\n",
    "\n",
    "isBalanced(\"[4+5>\")\n"
   ]
  },
  {
   "cell_type": "markdown",
   "metadata": {},
   "source": [
    "### 3.Min Stack\n",
    "```\n",
    "TC - O(1)\n",
    "SC - O(N)\n",
    "```"
   ]
  },
  {
   "cell_type": "code",
   "execution_count": 13,
   "metadata": {},
   "outputs": [
    {
     "name": "stdout",
     "output_type": "stream",
     "text": [
      "5\n"
     ]
    }
   ],
   "source": [
    "class Stack:\n",
    "    def __init__(self) -> None:\n",
    "        self.items = []\n",
    "        self.minStack = []\n",
    "    def push(self,item):\n",
    "        self.items.append(item)\n",
    "        item = min(item, self.minStack[-1] if self.minStack else item)\n",
    "        self.minStack.append(item)\n",
    "    def pop(self):\n",
    "        self.minStack.pop()\n",
    "        return self.items.pop()\n",
    "    def getMinimum(self):\n",
    "        return self.minStack[-1]\n",
    "\n",
    "stack = Stack()\n",
    "stack.push(10)\n",
    "stack.push(20)\n",
    "stack.push(5)\n",
    "stack.push(2)\n",
    "stack.pop()\n",
    "print(stack.getMinimum())"
   ]
  },
  {
   "cell_type": "markdown",
   "metadata": {},
   "source": [
    "### 4. Implement stack using queues\n",
    "[Geekforgeeks](https://practice.geeksforgeeks.org/problems/stack-using-two-queues/1)\n",
    "[LeetCode](https://leetcode.com/problems/implement-stack-using-queues/)"
   ]
  },
  {
   "cell_type": "code",
   "execution_count": null,
   "metadata": {},
   "outputs": [],
   "source": [
    "class MyStack:\n",
    "\n",
    "    def __init__(self):\n",
    "        self.q1 = []\n",
    "        self.q2 = []\n",
    "        self.t = -1\n",
    "\n",
    "    def push(self, x: int) -> None:\n",
    "        self.q1.append(x)\n",
    "        self.t = x\n",
    "\n",
    "    def pop(self) -> int:\n",
    "        while len(self.q1) > 1:\n",
    "            self.t = self.q1.pop(0)\n",
    "            self.q2.append(self.t)\n",
    "        k = self.q1.pop(0)\n",
    "        (self.q1,self.q2) = (self.q2,self.q1)\n",
    "        return k\n",
    "        \n",
    "        \n",
    "    def top(self) -> int:\n",
    "        return self.t\n",
    "\n",
    "    def empty(self) -> bool:\n",
    "        return len(self.q1) == 0"
   ]
  },
  {
   "cell_type": "markdown",
   "metadata": {},
   "source": [
    "### 5. Implement queue using stacks\n",
    "[Leetcode](https://leetcode.com/problems/implement-queue-using-stacks/submissions/)\n",
    "[geeksforgeeks](https://practice.geeksforgeeks.org/problems/queue-using-stack/1)"
   ]
  },
  {
   "cell_type": "code",
   "execution_count": 18,
   "metadata": {},
   "outputs": [
    {
     "name": "stdout",
     "output_type": "stream",
     "text": [
      "10\n",
      "20\n"
     ]
    }
   ],
   "source": [
    "class Queue:\n",
    "\n",
    "    def __init__(self):\n",
    "        self.stack = []\n",
    "        self.other = []\n",
    "        self.front = 0\n",
    "    def push(self, x: int) -> None:\n",
    "        if len(self.stack) == 0:\n",
    "            self.front = x\n",
    "        self.stack.append(x)\n",
    "\n",
    "    def pop(self) -> int:\n",
    "        while len(self.stack) > 1:\n",
    "            self.other.append(self.stack.pop())\n",
    "\n",
    "        x = self.stack.pop()\n",
    "\n",
    "        while self.other:\n",
    "            if len(self.stack) == 0:\n",
    "                current = self.other.pop()\n",
    "                self.front = current\n",
    "                self.stack.append(current)\n",
    "            else: self.stack.append(self.other.pop())\n",
    "\n",
    "        return x\n",
    "    def peek(self) -> int:\n",
    "        return self.front\n",
    "\n",
    "    def empty(self) -> bool:\n",
    "        return len(self.stack) == 0\n",
    "\n",
    "\n",
    "q = Queue()\n",
    "q.push(10)\n",
    "q.push(20)\n",
    "q.push(30)\n",
    "print(q.pop())\n",
    "print(q.peek())"
   ]
  }
 ],
 "metadata": {
  "kernelspec": {
   "display_name": "Python 3.10.4 64-bit",
   "language": "python",
   "name": "python3"
  },
  "language_info": {
   "codemirror_mode": {
    "name": "ipython",
    "version": 3
   },
   "file_extension": ".py",
   "mimetype": "text/x-python",
   "name": "python",
   "nbconvert_exporter": "python",
   "pygments_lexer": "ipython3",
   "version": "3.10.4"
  },
  "orig_nbformat": 4,
  "vscode": {
   "interpreter": {
    "hash": "2ff6f7f5029fee66e771e38cedfac1f775eb97d2c7dc6aeae1bd922d236f756a"
   }
  }
 },
 "nbformat": 4,
 "nbformat_minor": 2
}

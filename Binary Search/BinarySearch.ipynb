{
 "cells": [
  {
   "cell_type": "markdown",
   "metadata": {},
   "source": [
    "\n",
    "### 9. Search in nearly sorted array\n",
    "\n",
    "Given a nearly sorted array such that each of the n elements may be misplaced by no more than one position from the correct sorted order, search a given element in it efficiently. Report if the element is not present in the array.\n",
    "\n",
    "An element at index i in a correctly sorted order can be misplaced by the ± 1 position, i.e., it can be present at index i-1 or i or i+1 in the input array.\n",
    "\n",
    "```\n",
    "For example,\n",
    "\n",
    "Input:\n",
    " \n",
    "nums = [2, 1, 3, 5, 4, 7, 6, 8, 9]\n",
    "target = 5\n",
    " \n",
    "Output: Element 5 found at index 3\n",
    " \n",
    " \n",
    "Input:\n",
    " \n",
    "nums = [2, 1, 3, 5, 4, 7, 6, 8, 9]\n",
    "target = 10\n",
    " \n",
    "Output: Element not found in the array\n",
    "```"
   ]
  },
  {
   "cell_type": "code",
   "execution_count": 1,
   "metadata": {},
   "outputs": [
    {
     "data": {
      "text/plain": [
       "3"
      ]
     },
     "execution_count": 1,
     "metadata": {},
     "output_type": "execute_result"
    }
   ],
   "source": [
    "def solve(nums, k):\n",
    "    start,end = 0 ,len(nums)\n",
    "    while start <= end:\n",
    "        mid = (start + end) // 2\n",
    "        if nums[mid] == k:\n",
    "            return mid\n",
    "        elif mid - 1 >= start and nums[mid - 1] == k:\n",
    "            return mid - 1\n",
    "        elif mid + 1 <=  end and nums[mid + 1] == k:\n",
    "            return mid + 1\n",
    "        elif k < nums[mid]:\n",
    "            end = mid - 2\n",
    "        else:\n",
    "            start = mid + 2\n",
    "    return - 1\n",
    "\n",
    "solve([2, 1, 3, 5, 4, 7, 6, 8, 9], 5)"
   ]
  },
  {
   "cell_type": "markdown",
   "metadata": {},
   "source": [
    "### 10. find floor of an element in Sorted Array"
   ]
  },
  {
   "cell_type": "code",
   "execution_count": 12,
   "metadata": {},
   "outputs": [
    {
     "data": {
      "text/plain": [
       "19"
      ]
     },
     "execution_count": 12,
     "metadata": {},
     "output_type": "execute_result"
    }
   ],
   "source": [
    "def solve(nums,k):\n",
    "    res = -1\n",
    "    start, end = 0, len(nums)-1\n",
    "    while start <= end:\n",
    "        mid = (start + end) // 2\n",
    "        if k == nums[mid]:\n",
    "            return mid\n",
    "        elif k < nums[mid]:\n",
    "            end = mid - 1\n",
    "        else:\n",
    "            res = mid\n",
    "            start = mid  + 1\n",
    "    return res\n",
    "\n",
    "\n",
    "solve([1,2,8,10,11,12,19], 5)"
   ]
  }
 ],
 "metadata": {
  "kernelspec": {
   "display_name": "Python 3.10.4 64-bit",
   "language": "python",
   "name": "python3"
  },
  "language_info": {
   "codemirror_mode": {
    "name": "ipython",
    "version": 3
   },
   "file_extension": ".py",
   "mimetype": "text/x-python",
   "name": "python",
   "nbconvert_exporter": "python",
   "pygments_lexer": "ipython3",
   "version": "3.10.4"
  },
  "orig_nbformat": 4,
  "vscode": {
   "interpreter": {
    "hash": "2ff6f7f5029fee66e771e38cedfac1f775eb97d2c7dc6aeae1bd922d236f756a"
   }
  }
 },
 "nbformat": 4,
 "nbformat_minor": 2
}

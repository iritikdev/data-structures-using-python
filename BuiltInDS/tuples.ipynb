{
 "cells": [
  {
   "cell_type": "markdown",
   "metadata": {},
   "source": [
    "### Tuples\n",
    "- Read only list"
   ]
  },
  {
   "cell_type": "code",
   "execution_count": null,
   "metadata": {},
   "outputs": [],
   "source": [
    "# empty tuple\n",
    "point = ()\n",
    "point = (1,2) # 1, 2 # 1,"
   ]
  },
  {
   "cell_type": "code",
   "execution_count": 5,
   "metadata": {},
   "outputs": [
    {
     "name": "stdout",
     "output_type": "stream",
     "text": [
      "(1, 2, 1, 2, 1, 2)\n"
     ]
    }
   ],
   "source": [
    "point = (1,2) + (3,4)\n",
    "\n",
    "point = (1,2) * (3)\n",
    "print(point)"
   ]
  },
  {
   "cell_type": "code",
   "execution_count": 8,
   "metadata": {},
   "outputs": [
    {
     "name": "stdout",
     "output_type": "stream",
     "text": [
      "('R', 'i', 't', 'i', 'k')\n"
     ]
    }
   ],
   "source": [
    "nums = [10,20,30]\n",
    "\n",
    "name = tuple(\"Ritik\")\n",
    "print(name)"
   ]
  },
  {
   "cell_type": "code",
   "execution_count": 11,
   "metadata": {},
   "outputs": [
    {
     "name": "stdout",
     "output_type": "stream",
     "text": [
      "3\n",
      "(1, 2)\n"
     ]
    }
   ],
   "source": [
    "point = (1,2,3)\n",
    "\n",
    "print(point[2])\n",
    "\n",
    "print(point[0:2])"
   ]
  },
  {
   "cell_type": "markdown",
   "metadata": {},
   "source": [
    "### Swapping Variables"
   ]
  },
  {
   "cell_type": "code",
   "execution_count": 12,
   "metadata": {},
   "outputs": [
    {
     "name": "stdout",
     "output_type": "stream",
     "text": [
      "8 4\n"
     ]
    }
   ],
   "source": [
    "x, y = 4, 8\n",
    "\n",
    "temp = x\n",
    "x = y\n",
    "y = temp\n",
    "\n",
    "print(x,y)"
   ]
  },
  {
   "cell_type": "code",
   "execution_count": 14,
   "metadata": {},
   "outputs": [
    {
     "name": "stdout",
     "output_type": "stream",
     "text": [
      "x 8 y 4\n"
     ]
    }
   ],
   "source": [
    "x, y = y, x\n",
    "\n",
    "print(\"x\", x, \"y\",y)"
   ]
  },
  {
   "cell_type": "code",
   "execution_count": 17,
   "metadata": {},
   "outputs": [
    {
     "name": "stdout",
     "output_type": "stream",
     "text": [
      "[1, 16, 8, 8, 8, 4, 4, 2, 2]\n"
     ]
    },
    {
     "data": {
      "text/plain": [
       "0"
      ]
     },
     "execution_count": 17,
     "metadata": {},
     "output_type": "execute_result"
    }
   ],
   "source": [
    "def xorOfTwoValue(x, n, nums=[1,16,8]):\n",
    "    counter = 0\n",
    "    move = 0\n",
    "    for i in range(n):\n",
    "        for j in range(n):\n",
    "            result = nums[i] ^ nums[j]\n",
    "            if result == x:\n",
    "                print(nums[i], nums[j])\n",
    "                break\n",
    "            else:\n",
    "                if move == 0:\n",
    "                    maximum = max(nums)\n",
    "                    move += 1\n",
    "                maximum //= 2\n",
    "                nums.append(maximum)\n",
    "                nums.append(maximum)\n",
    "                # print(nums)\n",
    "                break\n",
    "            \n",
    "    print(nums)\n",
    "        # break\n",
    "    return counter\n",
    "        \n",
    "\n",
    "# nums = [8,8,8]\n",
    "x = 5\n",
    "n = len(nums)\n",
    "xorOfTwoValue(x, n)"
   ]
  },
  {
   "cell_type": "markdown",
   "metadata": {},
   "source": [
    "### Test"
   ]
  },
  {
   "cell_type": "code",
   "execution_count": 7,
   "metadata": {},
   "outputs": [
    {
     "name": "stdout",
     "output_type": "stream",
     "text": [
      "{100: 2, 95: 2, 65: 3, 45: 1}\n"
     ]
    }
   ],
   "source": [
    "# Question 27 Solution\n",
    "def grade_counter(grades):\n",
    "    grades_count = {}\n",
    "    for grade in grades:\n",
    "        if grade in grades_count:\n",
    "            grades_count[grade] += 1\n",
    "        else:\n",
    "            grades_count[grade] = 1\n",
    "    return grades_count\n",
    "\n",
    "grades = [100,95,65,95,65,100,45,65]\n",
    "print(grade_counter(grades))"
   ]
  },
  {
   "cell_type": "code",
   "execution_count": 21,
   "metadata": {},
   "outputs": [
    {
     "name": "stdout",
     "output_type": "stream",
     "text": [
      "[[0. 0. 0. 0. 0. 0.]\n",
      " [0. 0. 0. 0. 0. 0.]\n",
      " [0. 0. 0. 0. 0. 0.]]\n",
      "[-3 -1  1  3  5  7  9 11 13 15 17 19]\n"
     ]
    }
   ],
   "source": [
    "# Question 28: \n",
    "\n",
    "import numpy as np\n",
    "\n",
    "a = (3,6)\n",
    "print(np.zeros(a))\n",
    "\n",
    "print(np.arange(-3,21,2))\n"
   ]
  },
  {
   "cell_type": "code",
   "execution_count": 13,
   "metadata": {},
   "outputs": [
    {
     "data": {
      "text/plain": [
       "array([-3, -1,  1,  3,  5,  7,  9, 11, 13, 15, 17, 19])"
      ]
     },
     "execution_count": 13,
     "metadata": {},
     "output_type": "execute_result"
    }
   ],
   "source": [
    "# Question 28: \n",
    "# 2\n",
    "import numpy as np\n"
   ]
  },
  {
   "cell_type": "code",
   "execution_count": 14,
   "metadata": {},
   "outputs": [
    {
     "name": "stdout",
     "output_type": "stream",
     "text": [
      "y\n",
      "oyo\n",
      "ota\n"
     ]
    }
   ],
   "source": [
    "# Question 21\n",
    "a = \"Toyota\"\n",
    "print(a[2:3])\n",
    "print(a[1:4])\n",
    "print(a[3:])"
   ]
  },
  {
   "cell_type": "code",
   "execution_count": 15,
   "metadata": {},
   "outputs": [
    {
     "name": "stdout",
     "output_type": "stream",
     "text": [
      "[1, 3, 5, 7, 4, 5, 7, 8, 9]\n"
     ]
    }
   ],
   "source": [
    "# Question 22\n",
    "a = [1,3,5,7]\n",
    "b = [4,5,7,8,9]\n",
    "print(a+b)"
   ]
  },
  {
   "cell_type": "code",
   "execution_count": null,
   "metadata": {},
   "outputs": [],
   "source": [
    "\n"
   ]
  },
  {
   "cell_type": "code",
   "execution_count": 20,
   "metadata": {},
   "outputs": [
    {
     "name": "stdout",
     "output_type": "stream",
     "text": [
      "2\n",
      "It will be sunny day today\n",
      "It will be cloudy day today\n",
      "['It', 'will', 'be', 'sunny', 'day', 'today']\n"
     ]
    }
   ],
   "source": [
    "forecast = \"It will be sunny day today\"\n",
    "# Nof Occurrencess of string 'day' in forecast\n",
    "print(forecast.count(\"day\"))\n",
    "\n",
    "print(forecast.capitalize())\n",
    "\n",
    "print(forecast.replace(\"sunny\",\"cloudy\"))\n",
    "\n",
    "print(forecast.split(\" \"))\n"
   ]
  },
  {
   "cell_type": "code",
   "execution_count": 26,
   "metadata": {},
   "outputs": [
    {
     "data": {
      "text/plain": [
       "100"
      ]
     },
     "execution_count": 26,
     "metadata": {},
     "output_type": "execute_result"
    }
   ],
   "source": [
    "odd = [i for i in range(1,20,2)]\n",
    "len(odd)\n",
    "sum(odd)"
   ]
  },
  {
   "cell_type": "code",
   "execution_count": 34,
   "metadata": {},
   "outputs": [
    {
     "name": "stdout",
     "output_type": "stream",
     "text": [
      "\\nhello\n",
      "newline\n",
      "x\\97\n",
      "195\n"
     ]
    }
   ],
   "source": [
    "string = \"abcd\"\n",
    "string[-1:3]\n",
    "\n",
    "print (r\"\\nhello\")\n",
    "\n",
    "print('new' 'line')\n",
    "\n",
    "print('x\\97\\x98')\n",
    "\n",
    "print(0xAC + 0xB + 0xC)\n",
    "\n"
   ]
  },
  {
   "cell_type": "code",
   "execution_count": 49,
   "metadata": {},
   "outputs": [
    {
     "name": "stdout",
     "output_type": "stream",
     "text": [
      "--00122\n"
     ]
    },
    {
     "data": {
      "text/plain": [
       "1018"
      ]
     },
     "execution_count": 49,
     "metadata": {},
     "output_type": "execute_result"
    }
   ],
   "source": [
    "['f','t'][bool('spam')]\n",
    "\n",
    "2 + 4.00, 2**4.0\n",
    "\n",
    "x = -122\n",
    "print(\"-%06d\"%x)\n",
    "\n",
    "int(1018)"
   ]
  },
  {
   "cell_type": "code",
   "execution_count": 63,
   "metadata": {},
   "outputs": [
    {
     "name": "stdout",
     "output_type": "stream",
     "text": [
      "0\n",
      "1\n",
      "2\n",
      "3\n"
     ]
    }
   ],
   "source": [
    "a = [0,1,2,3]\n",
    "for a[0] in a:\n",
    "    print(a[0])"
   ]
  },
  {
   "cell_type": "code",
   "execution_count": 62,
   "metadata": {},
   "outputs": [
    {
     "name": "stdout",
     "output_type": "stream",
     "text": [
      "0\n",
      "1\n",
      "2\n",
      "2\n"
     ]
    }
   ],
   "source": [
    "a = [0,1,2,3]\n",
    "for a[-1] in a:\n",
    "    print(a[-1])"
   ]
  },
  {
   "cell_type": "code",
   "execution_count": 70,
   "metadata": {},
   "outputs": [
    {
     "name": "stdout",
     "output_type": "stream",
     "text": [
      "000ab\n",
      "Hello wala Google\n",
      "Abc Cdf\n"
     ]
    }
   ],
   "source": [
    "print('ab'.zfill(5))\n",
    "\n",
    "'my_string'.isidentifier()\n",
    "\n",
    "string[:-2]\n",
    "\n",
    "'cccddg'.find('c')\n",
    "\n",
    "'abcd'.translate('a'.maketrans('abc', 'bcd'))\n",
    "\n",
    "print(\"Hello {1} {0}\".format(\"Google\", \"wala\"))\n",
    "\n",
    "\n",
    "\n",
    "print(\"abc cdf\".title())"
   ]
  },
  {
   "cell_type": "code",
   "execution_count": 81,
   "metadata": {},
   "outputs": [
    {
     "data": {
      "text/plain": [
       "('age', 22)"
      ]
     },
     "execution_count": 81,
     "metadata": {},
     "output_type": "execute_result"
    }
   ],
   "source": [
    "l1 = [10,20,30]\n",
    "l2 = [-10,-20,-30]\n",
    "\n",
    "[x+y for x,y in zip(l1,l2)]\n",
    "\n",
    "\"Apple\" is \"Apple\"\n",
    "[1,2,3] is [1,2,3]\n",
    "\n",
    "\n",
    "a = [1,2,3]\n",
    "b = [4,5,6]\n",
    "[x*y for y in b for x in a]\n",
    "\n",
    "a = {1,2,3}\n",
    "b = a\n",
    "b.remove(3)\n",
    "a\n",
    "\n",
    "sum([5,6,6],5)\n",
    "\n",
    "a = (1,2)\n",
    "b = (1,2)\n",
    "\n",
    "a+b\n",
    "\n",
    "name = {'name':\"Ritik\", 'age':22}\n",
    "name.popitem( )"
   ]
  }
 ],
 "metadata": {
  "interpreter": {
   "hash": "cef9e06bb236b2a8629b07e87a04b187b952a0f661eff5533360a155783f0c33"
  },
  "kernelspec": {
   "display_name": "Python 3.7.7 64-bit ('base': conda)",
   "language": "python",
   "name": "python3"
  },
  "language_info": {
   "codemirror_mode": {
    "name": "ipython",
    "version": 3
   },
   "file_extension": ".py",
   "mimetype": "text/x-python",
   "name": "python",
   "nbconvert_exporter": "python",
   "pygments_lexer": "ipython3",
   "version": "3.7.7"
  },
  "orig_nbformat": 4
 },
 "nbformat": 4,
 "nbformat_minor": 2
}

{
 "cells": [
  {
   "cell_type": "code",
   "execution_count": 1,
   "metadata": {},
   "outputs": [
    {
     "name": "stdout",
     "output_type": "stream",
     "text": [
      "0 R\n",
      "1 i\n",
      "2 t\n",
      "3 i\n",
      "4 k\n"
     ]
    }
   ],
   "source": [
    "for i,v in enumerate(\"Ritik\"):\n",
    "    print(i,v)"
   ]
  }
 ],
 "metadata": {
  "kernelspec": {
   "display_name": "Python 3.10.4 64-bit",
   "language": "python",
   "name": "python3"
  },
  "language_info": {
   "codemirror_mode": {
    "name": "ipython",
    "version": 3
   },
   "file_extension": ".py",
   "mimetype": "text/x-python",
   "name": "python",
   "nbconvert_exporter": "python",
   "pygments_lexer": "ipython3",
   "version": "3.10.4"
  },
  "orig_nbformat": 4,
  "vscode": {
   "interpreter": {
    "hash": "2ff6f7f5029fee66e771e38cedfac1f775eb97d2c7dc6aeae1bd922d236f756a"
   }
  }
 },
 "nbformat": 4,
 "nbformat_minor": 2
}

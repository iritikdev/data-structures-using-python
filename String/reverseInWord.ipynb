{
 "cells": [
  {
   "cell_type": "markdown",
   "metadata": {},
   "source": [
    "### Reverse words in a given string\n",
    "\n",
    "Let the input string be “i like this program very much”. The function should change the string to “much very program this like i”\n",
    "\n",
    "```\n",
    "Input: s = “geeks quiz practice code” \n",
    "Output: s = “code practice quiz geeks”\n",
    "\n",
    "Input: s = “getting good at coding needs a lot of practice” \n",
    "Output: s = “practice of lot a needs coding at good getting” \n",
    "```"
   ]
  },
  {
   "cell_type": "code",
   "execution_count": 1,
   "metadata": {},
   "outputs": [
    {
     "data": {
      "text/plain": [
       "'jkl ghi def abc'"
      ]
     },
     "execution_count": 1,
     "metadata": {},
     "output_type": "execute_result"
    }
   ],
   "source": [
    "def reverseWord(input):\n",
    "    words = input.split(\" \")\n",
    "    return \" \".join(words[::-1])\n",
    "\n",
    "reverseWord(\"abc def ghi jkl\")"
   ]
  },
  {
   "cell_type": "markdown",
   "metadata": {},
   "source": [
    "### Run Length Encoding\n",
    "```\n",
    "Example 1:\n",
    "\n",
    "Input:\n",
    "str = aaaabbbccc\n",
    "Output: a4b3c3\n",
    "Explanation: a repeated 4 times\n",
    "consecutively b 3 times, c also 3\n",
    "times.\n",
    "```"
   ]
  },
  {
   "cell_type": "code",
   "execution_count": 2,
   "metadata": {},
   "outputs": [
    {
     "data": {
      "text/plain": [
       "'a4b3c3'"
      ]
     },
     "execution_count": 2,
     "metadata": {},
     "output_type": "execute_result"
    }
   ],
   "source": [
    "def encoding(input):\n",
    "    s = {}\n",
    "    for c in input:\n",
    "        s[c] = s.get(c,0) + 1\n",
    "    ans = \"\"\n",
    "    for k,v in s.items():\n",
    "        ans += k + str(v)\n",
    "    return ans\n",
    "\n",
    "encoding(\"aaaabbbccc\")"
   ]
  },
  {
   "cell_type": "markdown",
   "metadata": {},
   "source": [
    "### Remove all adjacent duplicate characters in a string\n"
   ]
  },
  {
   "cell_type": "code",
   "execution_count": 6,
   "metadata": {},
   "outputs": [
    {
     "data": {
      "text/plain": [
       "'geksforgeks'"
      ]
     },
     "execution_count": 6,
     "metadata": {},
     "output_type": "execute_result"
    }
   ],
   "source": [
    "def solve(input):\n",
    "    ans = input[0]\n",
    "\n",
    "    for i in range(1, len(input)):\n",
    "        curr = input[i]\n",
    "        prev = input[i-1]\n",
    "        if curr != prev:\n",
    "            ans += curr\n",
    "    return ans\n",
    "\n",
    "solve(\"geeksforgeeks\")"
   ]
  },
  {
   "cell_type": "markdown",
   "metadata": {},
   "source": [
    "### First Non-repeating character in a string\n",
    "\n",
    "[href][https://practice.geeksforgeeks.org/problems/non-repeating-character-1587115620/1]"
   ]
  },
  {
   "cell_type": "code",
   "execution_count": 9,
   "metadata": {},
   "outputs": [
    {
     "data": {
      "text/plain": [
       "'c'"
      ]
     },
     "execution_count": 9,
     "metadata": {},
     "output_type": "execute_result"
    }
   ],
   "source": [
    "def solve(s):\n",
    "    m = {}\n",
    "    for c in s:\n",
    "        m[c] = m.get(c,0) + 1\n",
    "    for ch in s:\n",
    "        if m.get(ch) == 1:\n",
    "            return ch\n",
    "    return '$'\n",
    "\n",
    "solve(\"hello\")\n",
    "solve(\"zxvczbtxyzvy\")"
   ]
  },
  {
   "cell_type": "markdown",
   "metadata": {},
   "source": [
    "### Find the number of vowels in a string. Vowels in English are A, E, O,U and I."
   ]
  },
  {
   "cell_type": "code",
   "execution_count": 10,
   "metadata": {},
   "outputs": [
    {
     "data": {
      "text/plain": [
       "4"
      ]
     },
     "execution_count": 10,
     "metadata": {},
     "output_type": "execute_result"
    }
   ],
   "source": [
    "def solve(s):\n",
    "    s = s.lower()\n",
    "    count = 0\n",
    "    for ch in s:\n",
    "        if ch == 'a' or ch == 'e' or ch == 'i' or ch == 'o' or ch == 'u':\n",
    "            count+=1\n",
    "    return count\n",
    "\n",
    "solve(\"leetcode\")"
   ]
  },
  {
   "cell_type": "code",
   "execution_count": 12,
   "metadata": {},
   "outputs": [
    {
     "data": {
      "text/plain": [
       "{'e': 3, 'o': 1}"
      ]
     },
     "execution_count": 12,
     "metadata": {},
     "output_type": "execute_result"
    }
   ],
   "source": [
    "def solve(s):\n",
    "    m = {}\n",
    "    s = s.lower()\n",
    "    for ch in s:\n",
    "        if ch == 'a' or ch == 'e' or ch == 'i' or ch == 'o' or ch == 'u':\n",
    "            m[ch] = m.get(ch,0) + 1\n",
    "    return m\n",
    "        \n",
    "\n",
    "solve(\"leetcode\")"
   ]
  },
  {
   "cell_type": "markdown",
   "metadata": {},
   "source": [
    "### Reverse a string.\n"
   ]
  },
  {
   "cell_type": "code",
   "execution_count": null,
   "metadata": {},
   "outputs": [],
   "source": [
    "def solve(input):\n",
    "    i, j = 0, len(input)-1\n",
    "    while i < j:\n",
    "        i+=1\n",
    "        j-=1"
   ]
  },
  {
   "cell_type": "markdown",
   "metadata": {},
   "source": [
    "### Check if a string is a rotation of another string.\n",
    "```\n",
    "Input: “ABCD”, “DABC” (rotate one char to the right)\n",
    "Output: true\n",
    "Input: “ABCD”, “CDAB” (rotate two chars to the right)\n",
    "Output: true\n",
    "Input: “ABCD”, “ADBC”\n",
    "Output: false\n",
    "```"
   ]
  },
  {
   "cell_type": "code",
   "execution_count": 12,
   "metadata": {},
   "outputs": [
    {
     "data": {
      "text/plain": [
       "False"
      ]
     },
     "execution_count": 12,
     "metadata": {},
     "output_type": "execute_result"
    }
   ],
   "source": [
    "def solve(str1, str2):\n",
    "    if len(str1) != len(str2): return False\n",
    "    temp = str1 * 2\n",
    "    if (temp.count(str2)) > 0:\n",
    "        return True\n",
    "    else : return False\n",
    "\n",
    "solve(\"ABCD\", \"ADBC\")"
   ]
  },
  {
   "cell_type": "code",
   "execution_count": 13,
   "metadata": {},
   "outputs": [
    {
     "data": {
      "text/plain": [
       "False"
      ]
     },
     "execution_count": 13,
     "metadata": {},
     "output_type": "execute_result"
    }
   ],
   "source": [
    "def solve(str1, str2):\n",
    "    if len(str1) != len(str2): return False\n",
    "    if str2 not in (str1 * 2): return False\n",
    "    return True\n",
    "\n",
    "solve(\"ABCD\", \"ADBC\")"
   ]
  },
  {
   "cell_type": "markdown",
   "metadata": {},
   "source": [
    "### Find the most repeated character in a string.\n",
    "```\n",
    "Input: “Hellooo!!”\n",
    "Output: ‘o’\n",
    "```\n",
    "\n",
    "https://practice.geeksforgeeks.org/problems/find-the-most-frequent-digit4432/0?category%5B%5D=Strings&category%5B%5D=Strings&difficulty%5B%5D=0&page=1&query=category%5B%5DStringsdifficulty%5B%5D0page1category%5B%5DStrings\n"
   ]
  },
  {
   "cell_type": "code",
   "execution_count": 21,
   "metadata": {},
   "outputs": [
    {
     "data": {
      "text/plain": [
       "'1'"
      ]
     },
     "execution_count": 21,
     "metadata": {},
     "output_type": "execute_result"
    }
   ],
   "source": [
    "# using dict or map in Python\n",
    "def solve(input):\n",
    "    m = {}\n",
    "    k_max = \"\"\n",
    "    v_max = 0\n",
    "    for ch in input:\n",
    "        m[ch] = m.get(ch,0) + 1\n",
    "    for k,v in m.items():\n",
    "        if v > v_max:\n",
    "            v_max = v\n",
    "            k_max = k\n",
    "        if v == v_max:\n",
    "            k_max = str(max(int(k), int(k_max)))\n",
    "    return k_max\n",
    "\n",
    "solve(\"1122\")\n"
   ]
  },
  {
   "cell_type": "markdown",
   "metadata": {},
   "source": [
    "### Upper case conversion\n",
    "Given a string str, convert the first letter of each word in the string to uppercase. \n",
    "\n",
    "Example 1:\n",
    "```\n",
    "Input:\n",
    "str = \"i love programming\"\n",
    "Output: \"I Love Programming\"\n",
    "Explanation:\n",
    "'I', 'L', 'P' are the first letters of \n",
    "the three words.\n",
    "```"
   ]
  },
  {
   "cell_type": "code",
   "execution_count": 34,
   "metadata": {},
   "outputs": [
    {
     "data": {
      "text/plain": [
       "'I Love Programming'"
      ]
     },
     "execution_count": 34,
     "metadata": {},
     "output_type": "execute_result"
    }
   ],
   "source": [
    "def solve(input):\n",
    "    words = input.split(\" \")\n",
    "    result = \"\"\n",
    "    for word in words:\n",
    "        result += \" \" + word.capitalize()\n",
    "    return result.strip()\n",
    "    \n",
    "\n",
    "solve(\"i love programming\")"
   ]
  },
  {
   "cell_type": "markdown",
   "metadata": {},
   "source": [
    "### Anagram\n",
    "Detects if two strings are anagram of each other. A string is an anagram of another string if it has the exact same characters in any order.\n",
    "\n",
    "```\n",
    "Input:a = geeksforgeeks, b = forgeeksgeeks\n",
    "Output: YES\n",
    "Explanation: Both the string have samecharacters with\n",
    "        same frequency. So, both are anagrams.\n",
    "```"
   ]
  },
  {
   "cell_type": "code",
   "execution_count": 39,
   "metadata": {},
   "outputs": [
    {
     "data": {
      "text/plain": [
       "False"
      ]
     },
     "execution_count": 39,
     "metadata": {},
     "output_type": "execute_result"
    }
   ],
   "source": [
    "def isAnagram(a, b):\n",
    "    return len(a) == len(b) or \"\".join(sorted(a)) == \"\".join(sorted(b))\n",
    "\n",
    "isAnagram(\"geeksforgeek\", \"forgeeksgeeks\")\n"
   ]
  },
  {
   "cell_type": "markdown",
   "metadata": {},
   "source": [
    "### Check whether the given string is Palindrome"
   ]
  },
  {
   "cell_type": "code",
   "execution_count": 41,
   "metadata": {},
   "outputs": [
    {
     "data": {
      "text/plain": [
       "1"
      ]
     },
     "execution_count": 41,
     "metadata": {},
     "output_type": "execute_result"
    }
   ],
   "source": [
    "def isPalindrome(S):\n",
    "    i,j = 0, len(S)-1\n",
    "    while i < j:\n",
    "        if S[i] != S[j]: return 0\n",
    "        i+=1\n",
    "        j-=1\n",
    "    return 1\n",
    "\n",
    "isPalindrome(\"madam\")"
   ]
  },
  {
   "cell_type": "markdown",
   "metadata": {},
   "source": [
    "### Longest Common Prefix\n",
    "```\n",
    "Given a set of strings, find their longest common prefix (LCP).\n",
    "\n",
    "Input: ['technique', 'technician', 'technology', 'technical']\n",
    "Output: 'techn'\n",
    "\n",
    "Input: ['techie delight', 'tech', 'techie', 'technology', 'technical']\n",
    "Output: 'tech'\n",
    "```"
   ]
  },
  {
   "cell_type": "code",
   "execution_count": 70,
   "metadata": {},
   "outputs": [
    {
     "data": {
      "text/plain": [
       "''"
      ]
     },
     "execution_count": 70,
     "metadata": {},
     "output_type": "execute_result"
    }
   ],
   "source": [
    "def solve(words):\n",
    "    words =  sorted(words)\n",
    "    lcp = \"\"\n",
    "    first = words[0]\n",
    "    last = words[-1]\n",
    "    for i in range(len(first)):\n",
    "        if first[i] != last[i]: \n",
    "            break\n",
    "        if first[i] == last[i]:\n",
    "            lcp += first[i]\n",
    "    return lcp\n",
    "\n",
    "\n",
    "solve(['techie delight', 'tech', 'techie', 'technology', 'technical'])\n",
    "# solve(['technique', 'technician', 'technology', 'technical'])\n",
    "solve(['technique', 'technician', 'technology', 'Tech'])\n"
   ]
  },
  {
   "cell_type": "code",
   "execution_count": 67,
   "metadata": {},
   "outputs": [
    {
     "name": "stdout",
     "output_type": "stream",
     "text": [
      "t\n",
      "t\n",
      "t\n",
      "t\n",
      "t\n"
     ]
    },
    {
     "data": {
      "text/plain": [
       "'tech'"
      ]
     },
     "execution_count": 67,
     "metadata": {},
     "output_type": "execute_result"
    }
   ],
   "source": [
    "def LCP(X, Y):\n",
    " \n",
    "    i = j = 0\n",
    "    while i < len(X) and j < len(Y):\n",
    "        if X[i] != Y[j]:\n",
    "            break\n",
    "        i = i + 1\n",
    "        j = j + 1\n",
    " \n",
    "    print(X[:1])\n",
    "    return X[:i]\n",
    " \n",
    " \n",
    "# Function to find the longest common prefix (LCP) between a given set of strings\n",
    "def findLCP(words):\n",
    " \n",
    "    prefix = words[0]\n",
    "    for s in words:\n",
    "        prefix = LCP(prefix, s)\n",
    "    return prefix\n",
    "\n",
    "findLCP(['techie delight', 'tech', 'techie', 'technology', 'technical'])"
   ]
  },
  {
   "cell_type": "markdown",
   "metadata": {},
   "source": [
    "### Check if string is rotated by two places\n",
    "Given two strings a and b. The task is to find if the string 'b' can be obtained by rotating another string 'a' by exactly 2 places.\n",
    "```\n",
    "Example 1:\n",
    "\n",
    "Input:\n",
    "a = amazon\n",
    "b = azonam\n",
    "Output: 1\n",
    "Explanation: amazon can be rotated anti\n",
    "clockwise by two places, which will make\n",
    "it as azonam.\n",
    "```"
   ]
  },
  {
   "cell_type": "code",
   "execution_count": 91,
   "metadata": {},
   "outputs": [
    {
     "data": {
      "text/plain": [
       "True"
      ]
     },
     "execution_count": 91,
     "metadata": {},
     "output_type": "execute_result"
    }
   ],
   "source": [
    "def solve(a,b):\n",
    "    # clock-wise rotation\n",
    "    current = \"\"\n",
    "    r,l = len(strs), len(strs) - 2\n",
    "    current = b[l:r] + b[:l]\n",
    "    if a == current: return True\n",
    "    # anti-clock wise rotation\n",
    "    current = b[2:] + b[:2]\n",
    "    if current == a: return True\n",
    "\n",
    "    return False\n",
    "\n",
    "\n",
    "solve(\"amazon\", \"onamaz\")"
   ]
  },
  {
   "cell_type": "code",
   "execution_count": 83,
   "metadata": {},
   "outputs": [
    {
     "data": {
      "text/plain": [
       "'amazon'"
      ]
     },
     "execution_count": 83,
     "metadata": {},
     "output_type": "execute_result"
    }
   ],
   "source": [
    "strs = \"azonam\"\n",
    "temp = (5 - 3) % len(strs)\n",
    "res =  strs[ : temp] + strs[temp : ]\n",
    "r = len(strs)\n",
    "l = len(strs) - 2\n",
    "strs[l:r] + strs[:l]"
   ]
  },
  {
   "cell_type": "code",
   "execution_count": 94,
   "metadata": {},
   "outputs": [
    {
     "name": "stdout",
     "output_type": "stream",
     "text": [
      "\n"
     ]
    }
   ],
   "source": [
    "def solve(num):\n",
    "    ones = [\n",
    "        '', 'one', 'two', 'three', 'four', 'five', 'six', 'seven','eight', 'nine', 'ten', \n",
    "        'eleven', 'twelve', 'thirteen', 'forteen', 'fifteen', 'Sixteen', 'Seventeen', 'eighteen', 'nineteen'\n",
    "    ]\n",
    "    tens = [\n",
    "       'ten', 'twenty', 'thirty', 'forty', 'fifty', 'sixty', 'seventy', 'eighty', 'ninty'\n",
    "    ]\n",
    "    for\n",
    "    \n",
    "\n",
    "\n",
    "    \n",
    "\n",
    "solve(45)"
   ]
  }
 ],
 "metadata": {
  "kernelspec": {
   "display_name": "Python 3.10.4 64-bit",
   "language": "python",
   "name": "python3"
  },
  "language_info": {
   "codemirror_mode": {
    "name": "ipython",
    "version": 3
   },
   "file_extension": ".py",
   "mimetype": "text/x-python",
   "name": "python",
   "nbconvert_exporter": "python",
   "pygments_lexer": "ipython3",
   "version": "3.10.4"
  },
  "orig_nbformat": 4,
  "vscode": {
   "interpreter": {
    "hash": "2ff6f7f5029fee66e771e38cedfac1f775eb97d2c7dc6aeae1bd922d236f756a"
   }
  }
 },
 "nbformat": 4,
 "nbformat_minor": 2
}
